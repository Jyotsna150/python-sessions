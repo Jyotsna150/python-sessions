{
 "cells": [
  {
   "cell_type": "markdown",
   "id": "1b000b2d",
   "metadata": {},
   "source": [
    "##looping  Concept\n",
    "\n",
    "Loop means circle, \n",
    "\n",
    "when we start at one point it continuously repeats the same task until unless we provide stop point,\n",
    "then it is called a looping concept.\n",
    "\n",
    "We have two types of looping concepts. \n",
    "\n",
    "      -   For Loop(for  else loop)\n",
    "      \n",
    "       - While loop(while else loop)\n",
    "\n"
   ]
  },
  {
   "cell_type": "markdown",
   "id": "a582ebb1",
   "metadata": {},
   "source": [
    "At the time of dealing with looping statements, Programmer must ensure there must 3 parts. \n",
    "They are :\n",
    "    1. Initlization Part (From Where to Start )--(eg:i=o)\n",
    "    2. Conditioinal Part(Stop point)--(i<10)\n",
    "    3. Updation Part ( Incrmentation or decrementation ) –(i+=1 or i-=1)\n",
    "\n",
    "NOTE:Python execution will all always start with zero.\n",
    "       \n"
   ]
  },
  {
   "cell_type": "markdown",
   "id": "7d9f1246",
   "metadata": {},
   "source": [
    "#for varname in Iterable_object: \n",
    "\n",
    "    ---------------------------------------- \n",
    "      Indentation block of statements\n",
    "    ---------------------------------------- \n",
    " \n",
    "    \n",
    "-------------------------------\n",
    "Other block of statements-- like print statement \n",
    "\n",
    "==================================\n",
    "#syntax-2\n",
    "\n",
    "#for varname in Iterable_object:\n",
    "    \n",
    "    \n",
    "    ---------------------------------------- \n",
    "     Indentation block of stmts \n",
    "    ---------------------------------------- \n",
    "#else:\n",
    "    \n",
    "    ---------------------------------------- \n",
    "     else block of statements \n",
    "    ---------------------------------------- \n",
    "    \n",
    "    \n",
    " --------------------\n",
    " Other block of statements"
   ]
  },
  {
   "cell_type": "code",
   "execution_count": null,
   "id": "99530c6b",
   "metadata": {},
   "outputs": [],
   "source": [
    "#Syntax:\n",
    "for i in range(start,stop):\n",
    "    \n",
    "    Block of statements\n",
    "    \n",
    "    "
   ]
  },
  {
   "cell_type": "code",
   "execution_count": null,
   "id": "922f0df6",
   "metadata": {},
   "outputs": [],
   "source": [
    "# if we want to print first 10 numbers\n",
    "# start point : 1\n",
    "# stop point: 10\n",
    "# incrementing   1  2   3  4 ---"
   ]
  },
  {
   "cell_type": "markdown",
   "id": "8118fe99",
   "metadata": {},
   "source": [
    "**range concept\n",
    "\n",
    "$Pattern- 1$"
   ]
  },
  {
   "cell_type": "markdown",
   "id": "7ace309d",
   "metadata": {},
   "source": [
    "#range(stop)\n",
    "\n",
    "    here--start value-0\n",
    "    \n",
    "    stop value-(end-1)\n",
    "    \n",
    "    step is default as 1--i.e increment"
   ]
  },
  {
   "cell_type": "code",
   "execution_count": null,
   "id": "e3a18855",
   "metadata": {},
   "outputs": [],
   "source": [
    "for i in range(10):\n",
    "    print(i)        #starts with 0 as intial point"
   ]
  },
  {
   "cell_type": "code",
   "execution_count": 4,
   "id": "f54398db",
   "metadata": {},
   "outputs": [
    {
     "name": "stdout",
     "output_type": "stream",
     "text": [
      "0  1  2  3  4  5  6  7  8  9  "
     ]
    }
   ],
   "source": [
    "for i in range(10):\n",
    "    print(i,end='  ')"
   ]
  },
  {
   "cell_type": "markdown",
   "id": "aee64821",
   "metadata": {},
   "source": [
    "$Pattern-2$\n",
    "\n",
    "**range(start,stop)\n",
    "\n",
    "    start=strt\n",
    "\n",
    "    stop=end-1\n",
    "\n",
    "    step=1--incrementing"
   ]
  },
  {
   "cell_type": "code",
   "execution_count": null,
   "id": "245755f7",
   "metadata": {},
   "outputs": [],
   "source": [
    "for i in range(1,11):\n",
    "    print(i,end='  ')"
   ]
  },
  {
   "cell_type": "markdown",
   "id": "3ad8f223",
   "metadata": {},
   "source": [
    "$Pattern-3$\n",
    "\n",
    "range(start,stop,step)\n",
    "\n",
    "Here-start=start\n",
    "     \n",
    "     stop=end-1\n",
    "     \n",
    "     step=+ for incrementing\n",
    "     \n",
    "     or\n",
    "     \n",
    "     step=-  for decrementing"
   ]
  },
  {
   "cell_type": "code",
   "execution_count": 5,
   "id": "686c5f93",
   "metadata": {},
   "outputs": [],
   "source": [
    "for i in range(1,10,-1):   \n",
    "    print(i,end='  ')   # 1  2  3"
   ]
  },
  {
   "cell_type": "code",
   "execution_count": 6,
   "id": "a41b1a16",
   "metadata": {},
   "outputs": [
    {
     "name": "stdout",
     "output_type": "stream",
     "text": [
      "10  9  8  7  6  5  4  3  2  1  "
     ]
    }
   ],
   "source": [
    "for i in range(10,0,-1):\n",
    "    print(i,end='  ')   0=0+1"
   ]
  },
  {
   "cell_type": "code",
   "execution_count": 7,
   "id": "6171a130",
   "metadata": {},
   "outputs": [],
   "source": [
    "for i in range(-10,-1,-1):   # -10 -9 -8 -7 -6 -5 -4 -3 -2 -1--backward direction is not possible i., decrementing\n",
    "    print(i,end='  ') "
   ]
  },
  {
   "cell_type": "code",
   "execution_count": 8,
   "id": "8e475a40",
   "metadata": {},
   "outputs": [
    {
     "name": "stdout",
     "output_type": "stream",
     "text": [
      "-10  -11  -12  -13  -14  "
     ]
    }
   ],
   "source": [
    "for i in range(-10,-15,-1):   #-10 -11 -12 -13 -14(stop val is end+1 as this is decrementing)\n",
    "    print(i,end='  ')"
   ]
  },
  {
   "cell_type": "code",
   "execution_count": null,
   "id": "cd4df44f",
   "metadata": {},
   "outputs": [],
   "source": [
    "for i in range(-10,0,1):\n",
    "    print(i,end='  ')"
   ]
  },
  {
   "cell_type": "code",
   "execution_count": null,
   "id": "5d775e37",
   "metadata": {},
   "outputs": [],
   "source": [
    "range(10,15,3) ========= possible\n",
    "range(10,15,-3) ======= NP ======= > No answer   #if stop value less than start value then decrementing will work\n",
    "range(10,-15,3) ======= NP======= > No answer\n",
    "range(10,-15,-3) ====== Possible\n",
    "range(-10,-30,-3) ==== P\n",
    "range(-10,-30,3) ===== NP ======= > No error/ No answer\n",
    "range(-10,30,-3) ===== NP ======= > No answer\n",
    "range(-10,30,3) ===== p"
   ]
  },
  {
   "cell_type": "code",
   "execution_count": 10,
   "id": "be60e997",
   "metadata": {},
   "outputs": [],
   "source": [
    "for i in range(10,15,-3):\n",
    "    print(i)"
   ]
  },
  {
   "cell_type": "code",
   "execution_count": 11,
   "id": "efe8bfbe",
   "metadata": {},
   "outputs": [
    {
     "name": "stdout",
     "output_type": "stream",
     "text": [
      "the square of 1 is 1\n",
      "the square of 2 is 4\n",
      "the square of 3 is 9\n",
      "the square of 4 is 16\n",
      "the square of 5 is 25\n",
      "the square of 6 is 36\n",
      "the square of 7 is 49\n",
      "the square of 8 is 64\n",
      "the square of 9 is 81\n",
      "the square of 10 is 100\n"
     ]
    }
   ],
   "source": [
    "for i in range(1,11):\n",
    "    print('the square of {} is {}'.format(i,i*i))"
   ]
  },
  {
   "cell_type": "code",
   "execution_count": 12,
   "id": "010b90fb",
   "metadata": {},
   "outputs": [
    {
     "name": "stdout",
     "output_type": "stream",
     "text": [
      "6*1=6\n",
      "6*2=12\n",
      "6*3=18\n",
      "6*4=24\n",
      "6*5=30\n",
      "6*6=36\n",
      "6*7=42\n",
      "6*8=48\n",
      "6*9=54\n",
      "6*10=60\n"
     ]
    }
   ],
   "source": [
    "for i in range(1,11):\n",
    "    print('6*{}={}'.format(i,6*i))"
   ]
  },
  {
   "cell_type": "code",
   "execution_count": 13,
   "id": "57692bca",
   "metadata": {},
   "outputs": [
    {
     "name": "stdout",
     "output_type": "stream",
     "text": [
      "8 *  1 = 8\n",
      "8 *  2 = 16\n",
      "8 *  3 = 24\n",
      "8 *  4 = 32\n",
      "8 *  5 = 40\n",
      "8 *  6 = 48\n",
      "8 *  7 = 56\n",
      "8 *  8 = 64\n",
      "8 *  9 = 72\n",
      "8 *  10 = 80\n"
     ]
    }
   ],
   "source": [
    "for i in range(1,11):\n",
    "    print('8 * ',i,'=',8*i)"
   ]
  },
  {
   "cell_type": "code",
   "execution_count": 14,
   "id": "0f204ab2",
   "metadata": {},
   "outputs": [
    {
     "name": "stdout",
     "output_type": "stream",
     "text": [
      "the square of 67 is 4489\n",
      "the square of 44 is 1936\n",
      "the square of 60 is 3600\n",
      "the square of 46 is 2116\n",
      "the square of 25 is 625\n"
     ]
    }
   ],
   "source": [
    "import random\n",
    "for i in range(1,6):\n",
    "    n=random.randint(1,100)\n",
    "    print('the square of {} is {}'.format(n,n*n))"
   ]
  },
  {
   "cell_type": "code",
   "execution_count": 15,
   "id": "93d7fe58",
   "metadata": {},
   "outputs": [
    {
     "name": "stdout",
     "output_type": "stream",
     "text": [
      "9 16 25 36 49 "
     ]
    }
   ],
   "source": [
    "import random\n",
    "num=random.randint(1,100)\n",
    "for i in range(num,num+5):\n",
    "    print(i*i,end=' ')"
   ]
  },
  {
   "cell_type": "code",
   "execution_count": 16,
   "id": "58a9f084",
   "metadata": {},
   "outputs": [
    {
     "name": "stdout",
     "output_type": "stream",
     "text": [
      "The square of 35 is 1225--for a random input\n",
      "The square of 44 is 1936--for a random input\n",
      "The square of 20 is 400--for a random input\n",
      "The square of 34 is 1156--for a random input\n",
      "The square of 6 is 36--for a random input\n"
     ]
    }
   ],
   "source": [
    "import random    #sep operand\n",
    "for i in range(5):\n",
    "    num=random.randint(1,50)\n",
    "    print('The square of {} is {}'.format(num,num*num),'for a random input',sep='--')"
   ]
  },
  {
   "cell_type": "code",
   "execution_count": 17,
   "id": "db7bd300",
   "metadata": {},
   "outputs": [
    {
     "name": "stdout",
     "output_type": "stream",
     "text": [
      "hello\n",
      "hello\n",
      "hello\n",
      "hello\n",
      "hello\n"
     ]
    }
   ],
   "source": [
    "for i in range(5):\n",
    "    print('hello')"
   ]
  },
  {
   "cell_type": "code",
   "execution_count": 18,
   "id": "e5c1f6ac",
   "metadata": {},
   "outputs": [
    {
     "name": "stdout",
     "output_type": "stream",
     "text": [
      "enter a number:2\n",
      "you loss\n",
      "enter a number:3\n",
      "you loss\n",
      "enter a number:4\n",
      "you won\n"
     ]
    }
   ],
   "source": [
    "import random\n",
    "n=random.randint(1,5)\n",
    "for i in range(3):\n",
    "    v=eval(input('enter a number:'))\n",
    "    if(n==v):\n",
    "        print('you won')\n",
    "        break\n",
    "    else:\n",
    "        print('you loss')"
   ]
  },
  {
   "cell_type": "code",
   "execution_count": null,
   "id": "f4319cb7",
   "metadata": {},
   "outputs": [],
   "source": [
    "import random\n",
    "num1=random.randint(1,20)\n",
    "for i in range(3):\n",
    "    num2=eval(input())\n",
    "    if num2==num1:\n",
    "        print(\"You won\")\n",
    "        break\n",
    "    else:\n",
    "        print(\"You lost\")\n",
    "        print(\"you have {} chances left\".format(i))\n",
    "print(\"num1 is:\",num1)"
   ]
  },
  {
   "cell_type": "code",
   "execution_count": 2,
   "id": "570d93f3",
   "metadata": {},
   "outputs": [
    {
     "name": "stdout",
     "output_type": "stream",
     "text": [
      "enter no. chances:3\n",
      "enter a number which is to be compare:7\n",
      "7 is not equal to 2, you loss!\n",
      "you have 2 chances left\n",
      "better luck next time\n",
      "enter a number which is to be compare:13\n",
      "13 is not equal to 2, you loss!\n",
      "you have 1 chances left\n",
      "better luck next time\n",
      "enter a number which is to be compare:15\n",
      "15 is not equal to 14, you loss!\n",
      "you have 0 chances left\n",
      "better luck next time\n"
     ]
    }
   ],
   "source": [
    "import random\n",
    "chances=eval(input('enter no. chances:'))\n",
    "for i in range(chances):\n",
    "    num1=random.randint(1,20)\n",
    "    num2=eval(input('enter a number which is to be compare:'))\n",
    "    if num2==num1:\n",
    "        print('{} is equal to {}, you won!'.format(num2,num1))\n",
    "        break\n",
    "    else:\n",
    "        print('{} is not equal to {}, you loss!'.format(num2,num1))\n",
    "        print(\"you have {} chances left\".format(chances-i-1))\n",
    "        print('better luck next time')\n"
   ]
  },
  {
   "cell_type": "code",
   "execution_count": 3,
   "id": "c5d3d000",
   "metadata": {},
   "outputs": [
    {
     "name": "stdout",
     "output_type": "stream",
     "text": [
      "a\n",
      "b\n",
      "c\n",
      "d\n",
      "e\n",
      "f\n",
      "g\n",
      "h\n",
      "i\n",
      "j\n",
      "k\n",
      "l\n",
      "m\n",
      "n\n",
      "o\n",
      "p\n",
      "q\n",
      "r\n",
      "s\n",
      "t\n",
      "u\n",
      "v\n",
      "w\n",
      "x\n",
      "y\n",
      "z\n"
     ]
    }
   ],
   "source": [
    "for i in 'abcdefghijklmnopqrstuvwxyz':print(i)"
   ]
  },
  {
   "cell_type": "code",
   "execution_count": null,
   "id": "560d2795",
   "metadata": {},
   "outputs": [],
   "source": [
    "#in----strings\n",
    "#range----numbers\n",
    "#input----strings\n",
    "#eval-----numbers"
   ]
  },
  {
   "cell_type": "code",
   "execution_count": 4,
   "id": "48aa0e63",
   "metadata": {},
   "outputs": [
    {
     "data": {
      "text/plain": [
       "['Formatter',\n",
       " 'Template',\n",
       " '_ChainMap',\n",
       " '__all__',\n",
       " '__builtins__',\n",
       " '__cached__',\n",
       " '__doc__',\n",
       " '__file__',\n",
       " '__loader__',\n",
       " '__name__',\n",
       " '__package__',\n",
       " '__spec__',\n",
       " '_re',\n",
       " '_sentinel_dict',\n",
       " '_string',\n",
       " 'ascii_letters',\n",
       " 'ascii_lowercase',\n",
       " 'ascii_uppercase',\n",
       " 'capwords',\n",
       " 'digits',\n",
       " 'hexdigits',\n",
       " 'octdigits',\n",
       " 'printable',\n",
       " 'punctuation',\n",
       " 'whitespace']"
      ]
     },
     "execution_count": 4,
     "metadata": {},
     "output_type": "execute_result"
    }
   ],
   "source": [
    "import string   #import <package_name>\n",
    "dir(string)     #dir(package_name)\n",
    "                #help(<package_name>.<method_name>)          \n",
    "                #<package_name>.<method_name>"
   ]
  },
  {
   "cell_type": "code",
   "execution_count": 8,
   "id": "5a159bd5",
   "metadata": {},
   "outputs": [
    {
     "name": "stdout",
     "output_type": "stream",
     "text": [
      "a b c d e f g h i j k l m n o p q r s t u v w x y z A B C D E F G H I J K L M N O P Q R S T U V W X Y Z "
     ]
    }
   ],
   "source": [
    "import string\n",
    "for i in string.ascii_letters:\n",
    "    print(i,end=' ')"
   ]
  },
  {
   "cell_type": "code",
   "execution_count": 9,
   "id": "24788313",
   "metadata": {},
   "outputs": [
    {
     "name": "stdout",
     "output_type": "stream",
     "text": [
      "a 97\n",
      "b 98\n",
      "c 99\n",
      "d 100\n",
      "e 101\n",
      "f 102\n",
      "g 103\n",
      "h 104\n",
      "i 105\n",
      "j 106\n",
      "k 107\n",
      "l 108\n",
      "m 109\n",
      "n 110\n",
      "o 111\n",
      "p 112\n",
      "q 113\n",
      "r 114\n",
      "s 115\n",
      "t 116\n",
      "u 117\n",
      "v 118\n",
      "w 119\n",
      "x 120\n",
      "y 121\n",
      "z 122\n",
      "A 65\n",
      "B 66\n",
      "C 67\n",
      "D 68\n",
      "E 69\n",
      "F 70\n",
      "G 71\n",
      "H 72\n",
      "I 73\n",
      "J 74\n",
      "K 75\n",
      "L 76\n",
      "M 77\n",
      "N 78\n",
      "O 79\n",
      "P 80\n",
      "Q 81\n",
      "R 82\n",
      "S 83\n",
      "T 84\n",
      "U 85\n",
      "V 86\n",
      "W 87\n",
      "X 88\n",
      "Y 89\n",
      "Z 90\n"
     ]
    }
   ],
   "source": [
    "for i in string.ascii_letters:\n",
    "    print(i,ord(i))"
   ]
  },
  {
   "cell_type": "code",
   "execution_count": 13,
   "id": "5b49937b",
   "metadata": {},
   "outputs": [
    {
     "name": "stdout",
     "output_type": "stream",
     "text": [
      "0---48          1---49          2---50          3---51          4---52          5---53          6---54          7---55          8---56          9---57          a---97          b---98          c---99          d---100          e---101          f---102          g---103          h---104          i---105          j---106          k---107          l---108          m---109          n---110          o---111          p---112          q---113          r---114          s---115          t---116          u---117          v---118          w---119          x---120          y---121          z---122          A---65          B---66          C---67          D---68          E---69          F---70          G---71          H---72          I---73          J---74          K---75          L---76          M---77          N---78          O---79          P---80          Q---81          R---82          S---83          T---84          U---85          V---86          W---87          X---88          Y---89          Z---90          !---33          \"---34          #---35          $---36          %---37          &---38          '---39          (---40          )---41          *---42          +---43          ,---44          ----45          .---46          /---47          :---58          ;---59          <---60          =---61          >---62          ?---63          @---64          [---91          \\---92          ]---93          ^---94          _---95          `---96          {---123          |---124          }---125          ~---126           ---32          \t---9          \n",
      "---10          \r",
      "---13          \u000b",
      "---11          \f",
      "---12          "
     ]
    }
   ],
   "source": [
    "for i in string.printable:\n",
    "    print(i,ord(i),sep='---',end='          ')"
   ]
  },
  {
   "cell_type": "code",
   "execution_count": 14,
   "id": "6c798984",
   "metadata": {},
   "outputs": [
    {
     "name": "stdout",
     "output_type": "stream",
     "text": [
      "48--->0\n",
      "49--->1\n",
      "50--->2\n",
      "51--->3\n",
      "52--->4\n",
      "53--->5\n",
      "54--->6\n",
      "55--->7\n",
      "56--->8\n",
      "57--->9\n",
      "58--->:\n",
      "59--->;\n",
      "60---><\n",
      "61--->=\n",
      "62--->>\n",
      "63--->?\n",
      "64--->@\n",
      "65--->A\n",
      "66--->B\n",
      "67--->C\n",
      "68--->D\n",
      "69--->E\n",
      "70--->F\n",
      "71--->G\n",
      "72--->H\n",
      "73--->I\n",
      "74--->J\n",
      "75--->K\n",
      "76--->L\n",
      "77--->M\n",
      "78--->N\n",
      "79--->O\n",
      "80--->P\n",
      "81--->Q\n",
      "82--->R\n",
      "83--->S\n",
      "84--->T\n",
      "85--->U\n",
      "86--->V\n",
      "87--->W\n",
      "88--->X\n",
      "89--->Y\n",
      "90--->Z\n",
      "91--->[\n",
      "92--->\\\n",
      "93--->]\n",
      "94--->^\n",
      "95--->_\n",
      "96--->`\n",
      "97--->a\n",
      "98--->b\n",
      "99--->c\n",
      "100--->d\n",
      "101--->e\n",
      "102--->f\n",
      "103--->g\n",
      "104--->h\n",
      "105--->i\n",
      "106--->j\n",
      "107--->k\n",
      "108--->l\n",
      "109--->m\n",
      "110--->n\n",
      "111--->o\n",
      "112--->p\n",
      "113--->q\n",
      "114--->r\n",
      "115--->s\n",
      "116--->t\n",
      "117--->u\n",
      "118--->v\n",
      "119--->w\n",
      "120--->x\n",
      "121--->y\n",
      "122--->z\n"
     ]
    }
   ],
   "source": [
    "for i in range(48,123):\n",
    "    print(i,chr(i),sep='--->')"
   ]
  },
  {
   "cell_type": "code",
   "execution_count": 22,
   "id": "f49c4377",
   "metadata": {},
   "outputs": [
    {
     "name": "stdout",
     "output_type": "stream",
     "text": [
      "Enter your name:anusha\n",
      "a letter in your name:2\n"
     ]
    }
   ],
   "source": [
    "count=0\n",
    "name_1=input(\"Enter your name:\")\n",
    "for i in name_1:\n",
    "    if i=='a':\n",
    "        count=count+1\n",
    "print(\"a letter in your name:{}\".format(count))\n",
    "        "
   ]
  },
  {
   "cell_type": "code",
   "execution_count": 39,
   "id": "f81bb66b",
   "metadata": {},
   "outputs": [
    {
     "name": "stdout",
     "output_type": "stream",
     "text": [
      "P\n",
      "Py\n",
      "Pyt\n",
      "Pyth\n",
      "Pytho\n",
      "Python\n",
      "Pytho\n",
      "Pyth\n",
      "Pyt\n",
      "Py\n",
      "P\n",
      "\n"
     ]
    }
   ],
   "source": [
    "count=0\n",
    "name_1='Python'\n",
    "for i in name_1:\n",
    "    count+=1\n",
    "    print(name_1[0:count])\n",
    "for i in name_1:\n",
    "    count-=1\n",
    "    print(name_1[0:count])\n",
    "\n",
    "   "
   ]
  },
  {
   "cell_type": "code",
   "execution_count": 1,
   "id": "df927c8c",
   "metadata": {},
   "outputs": [
    {
     "name": "stdout",
     "output_type": "stream",
     "text": [
      "enter start value:20\n",
      "enter stop value:25\n",
      "the 20 is even\n",
      "the 21 is odd\n",
      "the 22 is even\n",
      "the 23 is odd\n",
      "the 24 is even\n"
     ]
    }
   ],
   "source": [
    "#fun in fun\n",
    "def get_values():\n",
    "    start=eval(input(\"enter start value:\"))\n",
    "    stop=eval(input(\"enter stop value:\"))  \n",
    "    return(start,stop)\n",
    "\n",
    "def even_odd():\n",
    "    start,stop=get_values()\n",
    "    for i in range(start,stop):\n",
    "        if i%2==0:\n",
    "            print(\"the {} is even\".format(i))\n",
    "        else:\n",
    "            print(\"the {} is odd\".format(i))\n",
    "            \n",
    "even_odd()\n",
    "\n",
    "\n",
    "    "
   ]
  },
  {
   "cell_type": "code",
   "execution_count": null,
   "id": "92fb1615",
   "metadata": {},
   "outputs": [],
   "source": []
  },
  {
   "cell_type": "code",
   "execution_count": null,
   "id": "86444da9",
   "metadata": {},
   "outputs": [],
   "source": []
  }
 ],
 "metadata": {
  "kernelspec": {
   "display_name": "Python 3 (ipykernel)",
   "language": "python",
   "name": "python3"
  },
  "language_info": {
   "codemirror_mode": {
    "name": "ipython",
    "version": 3
   },
   "file_extension": ".py",
   "mimetype": "text/x-python",
   "name": "python",
   "nbconvert_exporter": "python",
   "pygments_lexer": "ipython3",
   "version": "3.11.5"
  }
 },
 "nbformat": 4,
 "nbformat_minor": 5
}
