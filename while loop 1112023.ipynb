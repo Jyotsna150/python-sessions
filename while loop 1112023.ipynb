{
 "cells": [
  {
   "cell_type": "code",
   "execution_count": null,
   "id": "fd6c5e72",
   "metadata": {},
   "outputs": [],
   "source": [
    "#WAP ask the user enter a password\n",
    "#if password=='python':\n",
    "else:\n",
    "    you are out\n",
    "#if he success first time,the loop should stop\n",
    "#print('how many chances left')"
   ]
  },
  {
   "cell_type": "code",
   "execution_count": null,
   "id": "dd5ecf08",
   "metadata": {},
   "outputs": [],
   "source": [
    "i=0\n",
    "ch=3\n",
    "password=\"python\"\n",
    "while (i<3):\n",
    "    user_pwd=input('enter a password:')\n",
    "    if(user_pwd==password):\n",
    "        print('you won')\n",
    "    else:\n",
    "        print('the no.of chances left is {}'.format(ch-i-1))\n",
    "        i+=1\n",
    "    "
   ]
  },
  {
   "cell_type": "code",
   "execution_count": 2,
   "id": "c5ecb020",
   "metadata": {},
   "outputs": [
    {
     "name": "stdout",
     "output_type": "stream",
     "text": [
      "enter no.of chances:4\n",
      "enter a number:3\n"
     ]
    },
    {
     "ename": "TypeError",
     "evalue": "'<' not supported between instances of 'int' and 'str'",
     "output_type": "error",
     "traceback": [
      "\u001b[1;31m---------------------------------------------------------------------------\u001b[0m",
      "\u001b[1;31mTypeError\u001b[0m                                 Traceback (most recent call last)",
      "Cell \u001b[1;32mIn[2], line 7\u001b[0m\n\u001b[0;32m      5\u001b[0m ch\u001b[38;5;241m=\u001b[39m\u001b[38;5;28minput\u001b[39m(\u001b[38;5;124m'\u001b[39m\u001b[38;5;124menter no.of chances:\u001b[39m\u001b[38;5;124m'\u001b[39m)\n\u001b[0;32m      6\u001b[0m number\u001b[38;5;241m=\u001b[39m\u001b[38;5;28minput\u001b[39m(\u001b[38;5;124m'\u001b[39m\u001b[38;5;124menter a number:\u001b[39m\u001b[38;5;124m'\u001b[39m)\n\u001b[1;32m----> 7\u001b[0m \u001b[38;5;28;01mwhile\u001b[39;00m i\u001b[38;5;241m<\u001b[39mch:\n\u001b[0;32m      8\u001b[0m     num\u001b[38;5;241m=\u001b[39mrandom\u001b[38;5;241m.\u001b[39mrandint(\u001b[38;5;241m1\u001b[39m,\u001b[38;5;241m10\u001b[39m)\n\u001b[0;32m      9\u001b[0m     \u001b[38;5;28;01mif\u001b[39;00m(num\u001b[38;5;241m==\u001b[39mnumber):\n",
      "\u001b[1;31mTypeError\u001b[0m: '<' not supported between instances of 'int' and 'str'"
     ]
    }
   ],
   "source": [
    "import time\n",
    "import random\n",
    "start=time.time()\n",
    "i=0\n",
    "ch=input('enter no.of chances:')\n",
    "number=input('enter a number:')\n",
    "while i<ch:\n",
    "    num=random.randint(1,10)\n",
    "    if(num==number):\n",
    "        print('you won')\n",
    "        i+=1\n",
    "    else:\n",
    "        print('enter again:{}'.format(ch-i+1))\n",
    "    \n",
    "        \n",
    "    \n",
    "end=time.time()\n",
    "print('the time taken is :',end-start)"
   ]
  },
  {
   "cell_type": "code",
   "execution_count": null,
   "id": "184075ae",
   "metadata": {},
   "outputs": [],
   "source": [
    "complex()"
   ]
  },
  {
   "cell_type": "code",
   "execution_count": null,
   "id": "1db7e308",
   "metadata": {},
   "outputs": [],
   "source": [
    "name='python'\n",
    "name"
   ]
  },
  {
   "cell_type": "code",
   "execution_count": null,
   "id": "5e3f9b7d",
   "metadata": {},
   "outputs": [],
   "source": [
    "name1=\"python\"\n",
    "name1"
   ]
  },
  {
   "cell_type": "code",
   "execution_count": null,
   "id": "c18362d6",
   "metadata": {},
   "outputs": [],
   "source": [
    "print(name)"
   ]
  },
  {
   "cell_type": "code",
   "execution_count": null,
   "id": "15a38653",
   "metadata": {},
   "outputs": [],
   "source": [
    "'''hi \n",
    "   hello\n",
    "   how are you'''"
   ]
  },
  {
   "cell_type": "code",
   "execution_count": null,
   "id": "1b43196a",
   "metadata": {},
   "outputs": [],
   "source": [
    "#triple codes means docstring its a information about the code"
   ]
  },
  {
   "cell_type": "code",
   "execution_count": null,
   "id": "f3d1ae46",
   "metadata": {},
   "outputs": [],
   "source": [
    "#entire string will be in double codes highlighted should be in single codes and viceversa"
   ]
  },
  {
   "cell_type": "code",
   "execution_count": null,
   "id": "5ee7dbf3",
   "metadata": {},
   "outputs": [],
   "source": [
    "print('hello \"python\"')"
   ]
  },
  {
   "cell_type": "code",
   "execution_count": null,
   "id": "ffa95ef0",
   "metadata": {},
   "outputs": [],
   "source": [
    "print(\"hello 'python'\")"
   ]
  },
  {
   "cell_type": "code",
   "execution_count": null,
   "id": "66762602",
   "metadata": {},
   "outputs": [],
   "source": [
    "string1='python'"
   ]
  },
  {
   "cell_type": "code",
   "execution_count": null,
   "id": "e285d966",
   "metadata": {},
   "outputs": [],
   "source": [
    "print(string1)"
   ]
  },
  {
   "cell_type": "code",
   "execution_count": null,
   "id": "b281be18",
   "metadata": {},
   "outputs": [],
   "source": [
    "type(string1)"
   ]
  },
  {
   "cell_type": "code",
   "execution_count": null,
   "id": "38088a15",
   "metadata": {},
   "outputs": [],
   "source": [
    "max(string1)"
   ]
  },
  {
   "cell_type": "code",
   "execution_count": null,
   "id": "de9c8943",
   "metadata": {},
   "outputs": [],
   "source": [
    "min(string1)"
   ]
  },
  {
   "cell_type": "code",
   "execution_count": null,
   "id": "0b00f7b1",
   "metadata": {},
   "outputs": [],
   "source": [
    "len(string1)"
   ]
  },
  {
   "cell_type": "code",
   "execution_count": null,
   "id": "419183a3",
   "metadata": {},
   "outputs": [],
   "source": [
    "p in 'python'"
   ]
  },
  {
   "cell_type": "code",
   "execution_count": null,
   "id": "dee70647",
   "metadata": {},
   "outputs": [],
   "source": [
    "str1='python'\n",
    "for i in str1:\n",
    "    print(i,ord(i))\n",
    "    print(ord(max(str1)),max(str1))"
   ]
  },
  {
   "cell_type": "code",
   "execution_count": null,
   "id": "0de6655d",
   "metadata": {},
   "outputs": [],
   "source": [
    "str1='hai'\n",
    "str2='hello'"
   ]
  },
  {
   "cell_type": "code",
   "execution_count": null,
   "id": "7d9f5d7f",
   "metadata": {},
   "outputs": [],
   "source": [
    "str1+string2"
   ]
  },
  {
   "cell_type": "code",
   "execution_count": null,
   "id": "18f74bda",
   "metadata": {},
   "outputs": [],
   "source": [
    "str1-str2"
   ]
  },
  {
   "cell_type": "code",
   "execution_count": null,
   "id": "76fbf207",
   "metadata": {},
   "outputs": [],
   "source": [
    "str1*str2"
   ]
  },
  {
   "cell_type": "code",
   "execution_count": null,
   "id": "ff2aa51e",
   "metadata": {},
   "outputs": [],
   "source": [
    "str1/str2"
   ]
  },
  {
   "cell_type": "code",
   "execution_count": null,
   "id": "f41400bf",
   "metadata": {},
   "outputs": [],
   "source": [
    "str1*2\n"
   ]
  },
  {
   "cell_type": "code",
   "execution_count": null,
   "id": "1cf3e5d8",
   "metadata": {},
   "outputs": [],
   "source": [
    "str1/str2"
   ]
  },
  {
   "cell_type": "code",
   "execution_count": 13,
   "id": "0bcb5867",
   "metadata": {},
   "outputs": [
    {
     "ename": "SyntaxError",
     "evalue": "invalid non-printable character U+00A0 (205513050.py, line 13)",
     "output_type": "error",
     "traceback": [
      "\u001b[1;36m  Cell \u001b[1;32mIn[13], line 13\u001b[1;36m\u001b[0m\n\u001b[1;33m    \u001b[0m\n\u001b[1;37m    ^\u001b[0m\n\u001b[1;31mSyntaxError\u001b[0m\u001b[1;31m:\u001b[0m invalid non-printable character U+00A0\n"
     ]
    }
   ],
   "source": [
    "i=0\n",
    "chance=eval(input(\"Enter number of chances!!!\"))\n",
    "while i<chance:\n",
    "    p=input(\"Enter the password:\")\n",
    "    if p=='python':\n",
    "        print('You are in!!!')\n",
    "        break\n",
    "    elif chance-i-1==0:\n",
    "        print(\"Chances are over!!!\")\n",
    "    else:\n",
    "        print('{} chances are available, please enter the password!!!'.format(chance-i-1))\n",
    "        \n",
    "        "
   ]
  },
  {
   "cell_type": "code",
   "execution_count": null,
   "id": "63b4b8da",
   "metadata": {},
   "outputs": [],
   "source": [
    "#Suppose that a player wants to play a game which requires him Rs. 1,000 to start.\n",
    "#If the current balance in his account is less than Rs. 1,000 he needs to withdraw the extra money from his e-wallet.\n",
    "\n",
    "#Note that if the sum of money in his courrent account and the amount withdrawn is greater than or equal to Rs. 1,000 \n",
    "#then he can start playing the game. However if the sum is less than Rs. 1,000 then the program should keep displaying the user \n",
    "#the message “You still do not have enough money to start playing.” and keep prompting the user\n",
    "#to withdraw money unless it crosses Rs. 1,000. Once ready, i.e. if his current account balance crosses Rs. 1,000, \n",
    "#it will display a message “Now, you are ready to play the game.” \n",
    "Your program should also display the account balance and the current amount in the e-wallet."
   ]
  },
  {
   "cell_type": "code",
   "execution_count": null,
   "id": "4402cfc6",
   "metadata": {},
   "outputs": [],
   "source": [
    "(consider: initial account balance is Rs. 200 and money in the e-wallet is Rs. 5,000)\n",
    "\n",
    "(Do further improvement by checking if the e-wallet balance becomes NIL, etc.)\n"
   ]
  },
  {
   "cell_type": "code",
   "execution_count": null,
   "id": "ea971f0c",
   "metadata": {},
   "outputs": [],
   "source": [
    "i=0\n",
    "while i<3:\n",
    "    wallet=5000\n",
    "    amt=eval(input('enter the intial balance you have to take from wallet:'))\n",
    "    if (amt==1000):\n",
    "        print('play a game')\n",
    "    wallet=wallet-amt\n",
    "    print('the available balance in wallet is:',wallet)\n",
    "    elif:\n",
    "        \n"
   ]
  },
  {
   "cell_type": "code",
   "execution_count": null,
   "id": "c4235cd5",
   "metadata": {},
   "outputs": [],
   "source": []
  }
 ],
 "metadata": {
  "kernelspec": {
   "display_name": "Python 3 (ipykernel)",
   "language": "python",
   "name": "python3"
  },
  "language_info": {
   "codemirror_mode": {
    "name": "ipython",
    "version": 3
   },
   "file_extension": ".py",
   "mimetype": "text/x-python",
   "name": "python",
   "nbconvert_exporter": "python",
   "pygments_lexer": "ipython3",
   "version": "3.11.5"
  }
 },
 "nbformat": 4,
 "nbformat_minor": 5
}
