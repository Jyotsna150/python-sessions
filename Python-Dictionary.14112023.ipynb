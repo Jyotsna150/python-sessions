{
 "cells": [
  {
   "cell_type": "markdown",
   "id": "9d5a8488",
   "metadata": {},
   "source": [
    "$ Python $ - $ Dictionary $"
   ]
  },
  {
   "cell_type": "code",
   "execution_count": 3,
   "id": "46f7ca78",
   "metadata": {},
   "outputs": [
    {
     "name": "stdout",
     "output_type": "stream",
     "text": [
      "Ram -- 23\n",
      "Raheem -- 45\n",
      "Abdul -- 34\n"
     ]
    }
   ],
   "source": [
    "name=['Ram','Raheem','Abdul']\n",
    "age=[23,45,34]\n",
    "for i,j in zip(name,age):\n",
    "    print(i,'--',j)"
   ]
  },
  {
   "cell_type": "code",
   "execution_count": 14,
   "id": "57fd3238",
   "metadata": {},
   "outputs": [
    {
     "data": {
      "text/plain": [
       "dict"
      ]
     },
     "execution_count": 14,
     "metadata": {},
     "output_type": "execute_result"
    }
   ],
   "source": [
    "dict1={'ram':23,'Raheem':23}\n",
    "dict1\n",
    "len(dict1)\n",
    "max(dict1)\n",
    "min(dict1)\n",
    "type(dict1)"
   ]
  },
  {
   "cell_type": "markdown",
   "id": "0c44341c",
   "metadata": {},
   "source": [
    "-   max and min values are based on keys only but not values\n",
    "-   Key value pair, Key should be one value\n",
    "-    If we provide multiple value at key position it will fail\n",
    "-   Duplicates are not allowed    #eg: {'Mobin':'Human', 'Mobin':'Human'}===op={'mobin':'Human'}\n",
    "-  If keys are same it takes last value.\n",
    "-  If we iterate through for loop, only keys is output but values are not come\n",
    "\n",
    "-   dict1={'ram':23,'Raheem':23}\n",
    "\n",
    "    for i in dict1:\n",
    "    \n",
    "    \n",
    "        print(i)\n",
    " -   Dictionary values retrive only based on keys only, It fails using Index"
   ]
  },
  {
   "cell_type": "code",
   "execution_count": 15,
   "id": "434eb163",
   "metadata": {},
   "outputs": [
    {
     "data": {
      "text/plain": [
       "{'name': ['Raheem', 'Ram', 'Raj'], 'age': [23, 23, 45]}"
      ]
     },
     "execution_count": 15,
     "metadata": {},
     "output_type": "execute_result"
    }
   ],
   "source": [
    "dict1={'name':['Raheem','Ram','Raj'],'age':[23,23,45]}\n",
    "dict1"
   ]
  },
  {
   "cell_type": "code",
   "execution_count": 18,
   "id": "b15a809f",
   "metadata": {},
   "outputs": [
    {
     "data": {
      "text/plain": [
       "{23: 'ram'}"
      ]
     },
     "execution_count": 18,
     "metadata": {},
     "output_type": "execute_result"
    }
   ],
   "source": [
    "dict1={23:'ram'}\n",
    "dict1"
   ]
  },
  {
   "cell_type": "code",
   "execution_count": 19,
   "id": "d1ed6f2a",
   "metadata": {},
   "outputs": [
    {
     "ename": "TypeError",
     "evalue": "unhashable type: 'list'",
     "output_type": "error",
     "traceback": [
      "\u001b[1;31m---------------------------------------------------------------------------\u001b[0m",
      "\u001b[1;31mTypeError\u001b[0m                                 Traceback (most recent call last)",
      "Cell \u001b[1;32mIn[19], line 1\u001b[0m\n\u001b[1;32m----> 1\u001b[0m dict1\u001b[38;5;241m=\u001b[39m{[\u001b[38;5;124m'\u001b[39m\u001b[38;5;124mRaheem\u001b[39m\u001b[38;5;124m'\u001b[39m,\u001b[38;5;124m'\u001b[39m\u001b[38;5;124mRam\u001b[39m\u001b[38;5;124m'\u001b[39m,\u001b[38;5;124m'\u001b[39m\u001b[38;5;124mRaj\u001b[39m\u001b[38;5;124m'\u001b[39m]:\u001b[38;5;124m'\u001b[39m\u001b[38;5;124mnames\u001b[39m\u001b[38;5;124m'\u001b[39m}\n\u001b[0;32m      2\u001b[0m dict1\n",
      "\u001b[1;31mTypeError\u001b[0m: unhashable type: 'list'"
     ]
    }
   ],
   "source": [
    "dict1={['Raheem','Ram','Raj']:'names'}\n",
    "dict1"
   ]
  },
  {
   "cell_type": "code",
   "execution_count": 20,
   "id": "17a8f09d",
   "metadata": {},
   "outputs": [
    {
     "data": {
      "text/plain": [
       "{20: 12}"
      ]
     },
     "execution_count": 20,
     "metadata": {},
     "output_type": "execute_result"
    }
   ],
   "source": [
    "dict1={20:12}\n",
    "dict1"
   ]
  },
  {
   "cell_type": "code",
   "execution_count": 21,
   "id": "bd831f0a",
   "metadata": {},
   "outputs": [
    {
     "ename": "TypeError",
     "evalue": "unhashable type: 'list'",
     "output_type": "error",
     "traceback": [
      "\u001b[1;31m---------------------------------------------------------------------------\u001b[0m",
      "\u001b[1;31mTypeError\u001b[0m                                 Traceback (most recent call last)",
      "Cell \u001b[1;32mIn[21], line 1\u001b[0m\n\u001b[1;32m----> 1\u001b[0m d\u001b[38;5;241m=\u001b[39m{[\u001b[38;5;124m'\u001b[39m\u001b[38;5;124mA\u001b[39m\u001b[38;5;124m'\u001b[39m]:\u001b[38;5;124m'\u001b[39m\u001b[38;5;124mApple\u001b[39m\u001b[38;5;124m'\u001b[39m,\u001b[38;5;124m'\u001b[39m\u001b[38;5;124mB\u001b[39m\u001b[38;5;124m'\u001b[39m:\u001b[38;5;241m10.5\u001b[39m,\u001b[38;5;124m'\u001b[39m\u001b[38;5;124mC\u001b[39m\u001b[38;5;124m'\u001b[39m:[\u001b[38;5;124m'\u001b[39m\u001b[38;5;124ma\u001b[39m\u001b[38;5;124m'\u001b[39m]}\n",
      "\u001b[1;31mTypeError\u001b[0m: unhashable type: 'list'"
     ]
    }
   ],
   "source": [
    "d={['A']:'Apple','B':10.5,'C':['a']}"
   ]
  },
  {
   "cell_type": "code",
   "execution_count": 23,
   "id": "8b18570c",
   "metadata": {},
   "outputs": [
    {
     "data": {
      "text/plain": [
       "{'fruits': {'like': ['Apple', 'Mango']}}"
      ]
     },
     "execution_count": 23,
     "metadata": {},
     "output_type": "execute_result"
    }
   ],
   "source": [
    "d={'fruits':{'like':['Apple','Mango']}}   #json file type\n",
    "d"
   ]
  },
  {
   "cell_type": "code",
   "execution_count": 24,
   "id": "af9cee87",
   "metadata": {},
   "outputs": [
    {
     "data": {
      "text/plain": [
       "{'Anu': 23}"
      ]
     },
     "execution_count": 24,
     "metadata": {},
     "output_type": "execute_result"
    }
   ],
   "source": [
    "d1={'Anu':23}\n",
    "d1"
   ]
  },
  {
   "cell_type": "code",
   "execution_count": 25,
   "id": "faad1cb2",
   "metadata": {},
   "outputs": [
    {
     "data": {
      "text/plain": [
       "True"
      ]
     },
     "execution_count": 25,
     "metadata": {},
     "output_type": "execute_result"
    }
   ],
   "source": [
    "'Anu' in d1"
   ]
  },
  {
   "cell_type": "code",
   "execution_count": 27,
   "id": "2675ff98",
   "metadata": {},
   "outputs": [
    {
     "name": "stdout",
     "output_type": "stream",
     "text": [
      "ram 23\n",
      "Raheem 23\n"
     ]
    }
   ],
   "source": [
    "dict1={'ram':23,'Raheem':28}\n",
    "for i in dict1:\n",
    "    print(i,'--',dict1[i])"
   ]
  },
  {
   "cell_type": "code",
   "execution_count": 28,
   "id": "9b047402",
   "metadata": {},
   "outputs": [
    {
     "name": "stdout",
     "output_type": "stream",
     "text": [
      "ram -- [20, 23]\n"
     ]
    }
   ],
   "source": [
    "dict1={'ram':[20,23]}\n",
    "for i in dict1:\n",
    "    print(i,'--',dict1[i])"
   ]
  },
  {
   "cell_type": "code",
   "execution_count": 33,
   "id": "c1ece55b",
   "metadata": {},
   "outputs": [
    {
     "name": "stdout",
     "output_type": "stream",
     "text": [
      "ram -- (20, 23)\n"
     ]
    }
   ],
   "source": [
    "dict1={'ram':(20,23)}\n",
    "for i in dict1:\n",
    "    print(i,'--',dict1[i])"
   ]
  },
  {
   "cell_type": "code",
   "execution_count": 31,
   "id": "44b27eb5",
   "metadata": {},
   "outputs": [
    {
     "data": {
      "text/plain": [
       "(20, 30)"
      ]
     },
     "execution_count": 31,
     "metadata": {},
     "output_type": "execute_result"
    }
   ],
   "source": [
    "num=20,30\n",
    "num"
   ]
  },
  {
   "cell_type": "code",
   "execution_count": 39,
   "id": "fbac7157",
   "metadata": {},
   "outputs": [
    {
     "name": "stdout",
     "output_type": "stream",
     "text": [
      "Ram 10\n",
      "Raheem 20\n",
      "Raj 34\n"
     ]
    }
   ],
   "source": [
    "dict1={'names':['Ram','Raheem','Raj'],'ages':[10,20,34]}\n",
    "for i in range(3):\n",
    "    print(dict1['names'][i],dict1['ages'][i])"
   ]
  },
  {
   "cell_type": "code",
   "execution_count": 40,
   "id": "9fecbf05",
   "metadata": {},
   "outputs": [
    {
     "name": "stdout",
     "output_type": "stream",
     "text": [
      "python\n"
     ]
    }
   ],
   "source": [
    "d1={'hello':{'hello':{'hello':'python'}}}\n",
    "print(d1['hello']['hello']['hello'])"
   ]
  },
  {
   "cell_type": "code",
   "execution_count": 47,
   "id": "36bff446",
   "metadata": {},
   "outputs": [
    {
     "data": {
      "text/plain": [
       "'cherry'"
      ]
     },
     "execution_count": 47,
     "metadata": {},
     "output_type": "execute_result"
    }
   ],
   "source": [
    "d2={'hello':[{'fruits':['Apple','banana',{'like':['cherry']}]}]}\n",
    "\n",
    "d2['hello'][0]['fruits'][2]['like'][0]"
   ]
  },
  {
   "cell_type": "code",
   "execution_count": 49,
   "id": "cd0f16bd",
   "metadata": {},
   "outputs": [
    {
     "data": {
      "text/plain": [
       "{'CIEL': ['hyd', 'Blr', 'chennai']}"
      ]
     },
     "execution_count": 49,
     "metadata": {},
     "output_type": "execute_result"
    }
   ],
   "source": [
    "#how to create empty dictionary..\n",
    "dict1={}\n",
    "dict1['CIEL']=['hyd','Blr','chennai']\n",
    "dict1"
   ]
  },
  {
   "cell_type": "code",
   "execution_count": 50,
   "id": "43f0b24e",
   "metadata": {},
   "outputs": [],
   "source": [
    "dict1['HR']='Recruiter'"
   ]
  },
  {
   "cell_type": "code",
   "execution_count": 51,
   "id": "5456af64",
   "metadata": {},
   "outputs": [
    {
     "data": {
      "text/plain": [
       "{'CIEL': ['hyd', 'Blr', 'chennai'], 'HR': 'Recruiter'}"
      ]
     },
     "execution_count": 51,
     "metadata": {},
     "output_type": "execute_result"
    }
   ],
   "source": [
    "dict1"
   ]
  },
  {
   "cell_type": "code",
   "execution_count": 52,
   "id": "b17f4f43",
   "metadata": {},
   "outputs": [
    {
     "data": {
      "text/plain": [
       "{'Apple': 'fruit', 'car': 'Vehicle'}"
      ]
     },
     "execution_count": 52,
     "metadata": {},
     "output_type": "execute_result"
    }
   ],
   "source": [
    "dict2={}\n",
    "dict2['Apple']='fruit'\n",
    "dict2['car']='Vehicle'\n",
    "dict2"
   ]
  },
  {
   "cell_type": "code",
   "execution_count": 64,
   "id": "0bb86759",
   "metadata": {},
   "outputs": [
    {
     "data": {
      "text/plain": [
       "{'even': [10, 10, 8], 'odd': [3, 7]}"
      ]
     },
     "execution_count": 64,
     "metadata": {},
     "output_type": "execute_result"
    }
   ],
   "source": [
    "#wap ask user to get 5 random no.s perform even or odd \n",
    "#print{'even':[],'odd':[]}\n",
    "dict1={}\n",
    "list1,list2=[],[]\n",
    "import random\n",
    "for i in range(5):\n",
    "    n=random.randint(1,10)\n",
    "    if n%2==0:\n",
    "        list1.append(n)\n",
    "    else:\n",
    "        list2.append(n)\n",
    "dict1['even']=list1\n",
    "dict1['odd']=list2\n",
    "dict1"
   ]
  },
  {
   "cell_type": "code",
   "execution_count": 35,
   "id": "70cab1b1",
   "metadata": {},
   "outputs": [
    {
     "ename": "SyntaxError",
     "evalue": "invalid syntax. Perhaps you forgot a comma? (3294276056.py, line 1)",
     "output_type": "error",
     "traceback": [
      "\u001b[1;36m  Cell \u001b[1;32mIn[35], line 1\u001b[1;36m\u001b[0m\n\u001b[1;33m    {'even':'list1' i for i in range(5) n list1.append(n) if n%2==0 'odd':'list2' else:list2.append(n) }\u001b[0m\n\u001b[1;37m            ^\u001b[0m\n\u001b[1;31mSyntaxError\u001b[0m\u001b[1;31m:\u001b[0m invalid syntax. Perhaps you forgot a comma?\n"
     ]
    }
   ],
   "source": [
    "{'even':'list1' i for i in range(5) n list1.append(n) if n%2==0 'odd':'list2' else:list2.append(n) }"
   ]
  },
  {
   "cell_type": "code",
   "execution_count": 8,
   "id": "28de7ce0",
   "metadata": {},
   "outputs": [
    {
     "data": {
      "text/plain": [
       "'aPPLE'"
      ]
     },
     "execution_count": 8,
     "metadata": {},
     "output_type": "execute_result"
    }
   ],
   "source": [
    "\"Apple\".swapcase()"
   ]
  },
  {
   "cell_type": "code",
   "execution_count": 10,
   "id": "401a58bd",
   "metadata": {},
   "outputs": [
    {
     "name": "stdout",
     "output_type": "stream",
     "text": [
      "wEARE_huMAnS\n"
     ]
    }
   ],
   "source": [
    "def swap_case():\n",
    "    s='Weare_HUmaNs'\n",
    "    s=s.swapcase()\n",
    "    print(s)\n",
    "    \n",
    "swap_case()"
   ]
  },
  {
   "cell_type": "code",
   "execution_count": 11,
   "id": "1258e143",
   "metadata": {},
   "outputs": [
    {
     "data": {
      "text/plain": [
       "dict_items([('names', ['Ram', 'Raheem', 'Raj']), ('ages', [10, 20, 34])])"
      ]
     },
     "execution_count": 11,
     "metadata": {},
     "output_type": "execute_result"
    }
   ],
   "source": [
    "dict1={'names':['Ram','Raheem','Raj'],'ages':[10,20,34]}\n",
    "dict1.items()   #all will come"
   ]
  },
  {
   "cell_type": "code",
   "execution_count": 12,
   "id": "afa8d2cb",
   "metadata": {},
   "outputs": [
    {
     "name": "stdout",
     "output_type": "stream",
     "text": [
      "names  : ['Ram', 'Raheem', 'Raj']\n",
      "ages  : [10, 20, 34]\n"
     ]
    }
   ],
   "source": [
    "for i,j in dict1.items():\n",
    "    print(i,' :',j) "
   ]
  },
  {
   "cell_type": "code",
   "execution_count": 13,
   "id": "73790c4e",
   "metadata": {},
   "outputs": [
    {
     "data": {
      "text/plain": [
       "[('names', ['Ram', 'Raheem', 'Raj']), ('ages', [10, 20, 34])]"
      ]
     },
     "execution_count": 13,
     "metadata": {},
     "output_type": "execute_result"
    }
   ],
   "source": [
    "list(dict1.items())"
   ]
  },
  {
   "cell_type": "code",
   "execution_count": 14,
   "id": "cade96f0",
   "metadata": {},
   "outputs": [
    {
     "data": {
      "text/plain": [
       "dict_items"
      ]
     },
     "execution_count": 14,
     "metadata": {},
     "output_type": "execute_result"
    }
   ],
   "source": [
    "type(dict1.items())"
   ]
  },
  {
   "cell_type": "code",
   "execution_count": 15,
   "id": "5de2d542",
   "metadata": {},
   "outputs": [
    {
     "name": "stdout",
     "output_type": "stream",
     "text": [
      "('names', ['Ram', 'Raheem', 'Raj'])\n",
      "('ages', [10, 20, 34])\n"
     ]
    }
   ],
   "source": [
    "for i in dict1.items():             #i=(a,b)=====i=a,j=b also possible\n",
    "    print(i)                      #its a packed example"
   ]
  },
  {
   "cell_type": "code",
   "execution_count": 16,
   "id": "949a3f95",
   "metadata": {},
   "outputs": [
    {
     "name": "stdout",
     "output_type": "stream",
     "text": [
      "names : ['Ram', 'Raheem', 'Raj']\n",
      "ages : [10, 20, 34]\n"
     ]
    }
   ],
   "source": [
    "for i,j in dict1.items():\n",
    "    print(i,':',j)"
   ]
  },
  {
   "cell_type": "code",
   "execution_count": 29,
   "id": "5d07b203",
   "metadata": {},
   "outputs": [
    {
     "data": {
      "text/plain": [
       "{'A': '1', 'B': '2', 'C': '3'}"
      ]
     },
     "execution_count": 29,
     "metadata": {},
     "output_type": "execute_result"
    }
   ],
   "source": [
    "keys=['A','B','C']\n",
    "values=['1','2','3']\n",
    "\n",
    "dict1={}\n",
    "for i,j in zip(keys,values):\n",
    "    dict1[i]=j\n",
    "dict1"
   ]
  },
  {
   "cell_type": "code",
   "execution_count": 30,
   "id": "2e4bb2f0",
   "metadata": {},
   "outputs": [
    {
     "data": {
      "text/plain": [
       "[0, 1, 2, 3, 4, 5, 6, 7, 8, 9]"
      ]
     },
     "execution_count": 30,
     "metadata": {},
     "output_type": "execute_result"
    }
   ],
   "source": [
    "[i for i in range(10)]"
   ]
  },
  {
   "cell_type": "code",
   "execution_count": 31,
   "id": "4e3afb6c",
   "metadata": {},
   "outputs": [
    {
     "data": {
      "text/plain": [
       "{'A': '1', 'B': '2', 'C': '3'}"
      ]
     },
     "execution_count": 31,
     "metadata": {},
     "output_type": "execute_result"
    }
   ],
   "source": [
    "{i:j for i,j in zip(keys,values)}"
   ]
  },
  {
   "cell_type": "markdown",
   "id": "9ca7c73e",
   "metadata": {},
   "source": [
    "$get$"
   ]
  },
  {
   "cell_type": "code",
   "execution_count": 36,
   "id": "7e346538",
   "metadata": {},
   "outputs": [
    {
     "data": {
      "text/plain": [
       "['__class__',\n",
       " '__class_getitem__',\n",
       " '__contains__',\n",
       " '__delattr__',\n",
       " '__delitem__',\n",
       " '__dir__',\n",
       " '__doc__',\n",
       " '__eq__',\n",
       " '__format__',\n",
       " '__ge__',\n",
       " '__getattribute__',\n",
       " '__getitem__',\n",
       " '__getstate__',\n",
       " '__gt__',\n",
       " '__hash__',\n",
       " '__init__',\n",
       " '__init_subclass__',\n",
       " '__ior__',\n",
       " '__iter__',\n",
       " '__le__',\n",
       " '__len__',\n",
       " '__lt__',\n",
       " '__ne__',\n",
       " '__new__',\n",
       " '__or__',\n",
       " '__reduce__',\n",
       " '__reduce_ex__',\n",
       " '__repr__',\n",
       " '__reversed__',\n",
       " '__ror__',\n",
       " '__setattr__',\n",
       " '__setitem__',\n",
       " '__sizeof__',\n",
       " '__str__',\n",
       " '__subclasshook__',\n",
       " 'clear',\n",
       " 'copy',\n",
       " 'fromkeys',\n",
       " 'get',\n",
       " 'items',\n",
       " 'keys',\n",
       " 'pop',\n",
       " 'popitem',\n",
       " 'setdefault',\n",
       " 'update',\n",
       " 'values']"
      ]
     },
     "execution_count": 36,
     "metadata": {},
     "output_type": "execute_result"
    }
   ],
   "source": [
    "dir(dict)"
   ]
  },
  {
   "cell_type": "code",
   "execution_count": 37,
   "id": "43587c7d",
   "metadata": {},
   "outputs": [
    {
     "data": {
      "text/plain": [
       "{'A': '1', 'B': '2', 'C': '3'}"
      ]
     },
     "execution_count": 37,
     "metadata": {},
     "output_type": "execute_result"
    }
   ],
   "source": [
    "dict1"
   ]
  },
  {
   "cell_type": "code",
   "execution_count": 39,
   "id": "c6d83d3d",
   "metadata": {},
   "outputs": [
    {
     "data": {
      "text/plain": [
       "'1'"
      ]
     },
     "execution_count": 39,
     "metadata": {},
     "output_type": "execute_result"
    }
   ],
   "source": [
    "dict1.get(\"A\")"
   ]
  },
  {
   "cell_type": "code",
   "execution_count": 41,
   "id": "ab19ecc6",
   "metadata": {},
   "outputs": [],
   "source": [
    "dict1.get('a')"
   ]
  },
  {
   "cell_type": "code",
   "execution_count": 44,
   "id": "609f5bd5",
   "metadata": {},
   "outputs": [
    {
     "data": {
      "text/plain": [
       "{}"
      ]
     },
     "execution_count": 44,
     "metadata": {},
     "output_type": "execute_result"
    }
   ],
   "source": [
    "dict1.clear()\n",
    "dict1"
   ]
  },
  {
   "cell_type": "code",
   "execution_count": 50,
   "id": "c4ab11fd",
   "metadata": {},
   "outputs": [
    {
     "name": "stdout",
     "output_type": "stream",
     "text": [
      "{}\n",
      "{'A': '1', 'B': '2', 'C': '3'}\n"
     ]
    }
   ],
   "source": [
    "dict1={'A': '1', 'B': '2', 'C': '3'}\n",
    "dict2=dict1.copy()\n",
    "dict1.clear()\n",
    "print(dict1)\n",
    "print(dict2)"
   ]
  },
  {
   "cell_type": "code",
   "execution_count": 52,
   "id": "2f27139e",
   "metadata": {},
   "outputs": [
    {
     "data": {
      "text/plain": [
       "{'A': '1', 'B': '2', 'C': '3'}"
      ]
     },
     "execution_count": 52,
     "metadata": {},
     "output_type": "execute_result"
    }
   ],
   "source": [
    "dict2"
   ]
  },
  {
   "cell_type": "code",
   "execution_count": 54,
   "id": "d7b3d09c",
   "metadata": {},
   "outputs": [
    {
     "data": {
      "text/plain": [
       "'1'"
      ]
     },
     "execution_count": 54,
     "metadata": {},
     "output_type": "execute_result"
    }
   ],
   "source": [
    "dict2.pop('A')"
   ]
  },
  {
   "cell_type": "code",
   "execution_count": 55,
   "id": "ff00fc08",
   "metadata": {},
   "outputs": [
    {
     "data": {
      "text/plain": [
       "{'B': '2', 'C': '3'}"
      ]
     },
     "execution_count": 55,
     "metadata": {},
     "output_type": "execute_result"
    }
   ],
   "source": [
    "dict2"
   ]
  },
  {
   "cell_type": "code",
   "execution_count": 56,
   "id": "9e6ce273",
   "metadata": {},
   "outputs": [
    {
     "data": {
      "text/plain": [
       "('C', '3')"
      ]
     },
     "execution_count": 56,
     "metadata": {},
     "output_type": "execute_result"
    }
   ],
   "source": [
    "dict2.popitem()"
   ]
  },
  {
   "cell_type": "code",
   "execution_count": 57,
   "id": "63a9a0a7",
   "metadata": {},
   "outputs": [
    {
     "data": {
      "text/plain": [
       "{'B': '2'}"
      ]
     },
     "execution_count": 57,
     "metadata": {},
     "output_type": "execute_result"
    }
   ],
   "source": [
    "dict2"
   ]
  },
  {
   "cell_type": "code",
   "execution_count": 66,
   "id": "03079418",
   "metadata": {},
   "outputs": [
    {
     "data": {
      "text/plain": [
       "{'B': '2', 'C': '3'}"
      ]
     },
     "execution_count": 66,
     "metadata": {},
     "output_type": "execute_result"
    }
   ],
   "source": [
    "dict1={'A': '1', 'B': '2', 'C': '3'}\n",
    "dict1.pop('A','B')\n",
    "dict1"
   ]
  },
  {
   "cell_type": "code",
   "execution_count": 67,
   "id": "11981074",
   "metadata": {},
   "outputs": [],
   "source": [
    "#del is a keyword\n",
    "del dict1['C']"
   ]
  },
  {
   "cell_type": "code",
   "execution_count": 68,
   "id": "e8698145",
   "metadata": {},
   "outputs": [
    {
     "data": {
      "text/plain": [
       "{'B': '2'}"
      ]
     },
     "execution_count": 68,
     "metadata": {},
     "output_type": "execute_result"
    }
   ],
   "source": [
    "dict1"
   ]
  },
  {
   "cell_type": "code",
   "execution_count": null,
   "id": "fd5b849d",
   "metadata": {},
   "outputs": [],
   "source": [
    "#pop and del both are same"
   ]
  },
  {
   "cell_type": "code",
   "execution_count": 69,
   "id": "b1c5e045",
   "metadata": {},
   "outputs": [
    {
     "data": {
      "text/plain": [
       "{'p': 10, 'y': 10, 't': 10, 'h': 10, 'o': 10, 'n': 10}"
      ]
     },
     "execution_count": 69,
     "metadata": {},
     "output_type": "execute_result"
    }
   ],
   "source": [
    "dict1={'course':'Python','duration':4,'Inst':'CIEL'}\n",
    "dict1.fromkeys('python',10)"
   ]
  },
  {
   "cell_type": "code",
   "execution_count": 72,
   "id": "9d324954",
   "metadata": {},
   "outputs": [
    {
     "data": {
      "text/plain": [
       "{1: 10, 2: 10, 3: 10, 4: 10, 5: 10}"
      ]
     },
     "execution_count": 72,
     "metadata": {},
     "output_type": "execute_result"
    }
   ],
   "source": [
    "list1=[1,2,3,4,5]\n",
    "dict1.fromkeys(list1,10)\n"
   ]
  },
  {
   "cell_type": "code",
   "execution_count": 3,
   "id": "f0aedbcd",
   "metadata": {},
   "outputs": [
    {
     "data": {
      "text/plain": [
       "['Hyderabad', 'Chennai', 'Bengaluru']"
      ]
     },
     "execution_count": 3,
     "metadata": {},
     "output_type": "execute_result"
    }
   ],
   "source": [
    "list1=['hyderabad','chennai','bengaluru']\n",
    "list2=[]\n",
    "for i in list1:\n",
    "    list2.append(i.capitalize())\n",
    "\n",
    "list2\n",
    "    "
   ]
  },
  {
   "cell_type": "code",
   "execution_count": 4,
   "id": "705bdc20",
   "metadata": {},
   "outputs": [
    {
     "data": {
      "text/plain": [
       "['Hyderabad', 'Chennai', 'Bengaluru']"
      ]
     },
     "execution_count": 4,
     "metadata": {},
     "output_type": "execute_result"
    }
   ],
   "source": [
    "[i.capitalize() for i in list1]"
   ]
  },
  {
   "cell_type": "code",
   "execution_count": 12,
   "id": "1ed0982d",
   "metadata": {},
   "outputs": [
    {
     "data": {
      "text/plain": [
       "<function __main__.<lambda>(i)>"
      ]
     },
     "execution_count": 12,
     "metadata": {},
     "output_type": "execute_result"
    }
   ],
   "source": [
    "#step1:create a lambda function\n",
    "\n",
    "list1=['hyderabad', 'chennai', 'bengaluru']\n",
    "\n",
    "lambda i:i.capitalize()"
   ]
  },
  {
   "cell_type": "code",
   "execution_count": 9,
   "id": "7f8fcc61",
   "metadata": {},
   "outputs": [
    {
     "data": {
      "text/plain": [
       "(<function __main__.<lambda>(i)>, ['hyderabad', 'chennai', 'bengaluru'])"
      ]
     },
     "execution_count": 9,
     "metadata": {},
     "output_type": "execute_result"
    }
   ],
   "source": [
    "#step2:add iterater\n",
    "\n",
    "list1=['hyderabad', 'chennai', 'bengaluru']\n",
    "lambda i:i.capitalize(),list1"
   ]
  },
  {
   "cell_type": "code",
   "execution_count": 10,
   "id": "4bde444e",
   "metadata": {},
   "outputs": [
    {
     "data": {
      "text/plain": [
       "<map at 0x1a6d6ff2590>"
      ]
     },
     "execution_count": 10,
     "metadata": {},
     "output_type": "execute_result"
    }
   ],
   "source": [
    "#step3\n",
    "list1=['hyderabad', 'chennai', 'bengaluru']\n",
    "\n",
    "map(lambda i:i.capitalize(),list1)"
   ]
  },
  {
   "cell_type": "code",
   "execution_count": 11,
   "id": "e0b5af8a",
   "metadata": {},
   "outputs": [
    {
     "data": {
      "text/plain": [
       "['Hyderabad', 'Chennai', 'Bengaluru']"
      ]
     },
     "execution_count": 11,
     "metadata": {},
     "output_type": "execute_result"
    }
   ],
   "source": [
    "#step4\n",
    "list1=['hyderabad', 'chennai', 'bengaluru']\n",
    "\n",
    "list(map(lambda i:i.capitalize(),list1))"
   ]
  },
  {
   "cell_type": "code",
   "execution_count": 18,
   "id": "46909fdb",
   "metadata": {},
   "outputs": [
    {
     "data": {
      "text/plain": [
       "[1, 4, 9, 16]"
      ]
     },
     "execution_count": 18,
     "metadata": {},
     "output_type": "execute_result"
    }
   ],
   "source": [
    "l1=[1,2,3,4]        #output=[1,4,9,16]\n",
    "lambda i:i*i,l1\n",
    "list(map(lambda i:i*i,l1))\n"
   ]
  },
  {
   "cell_type": "code",
   "execution_count": 20,
   "id": "323dcac6",
   "metadata": {},
   "outputs": [
    {
     "data": {
      "text/plain": [
       "[True, False, True, True]"
      ]
     },
     "execution_count": 20,
     "metadata": {},
     "output_type": "execute_result"
    }
   ],
   "source": [
    "l2=['biryani','hyd','Buvaneswar','rasagulla']\n",
    "list(map(lambda i:len(i)>3,l2))"
   ]
  },
  {
   "cell_type": "markdown",
   "id": "165b9ffd",
   "metadata": {},
   "source": [
    "$filter$"
   ]
  },
  {
   "cell_type": "code",
   "execution_count": 21,
   "id": "7c7c780e",
   "metadata": {},
   "outputs": [
    {
     "data": {
      "text/plain": [
       "['biryani', 'Buvaneswar', 'rasagulla']"
      ]
     },
     "execution_count": 21,
     "metadata": {},
     "output_type": "execute_result"
    }
   ],
   "source": [
    "l2=['biryani','hyd','Buvaneswar','rasagulla']      #whenever we apply condition we need to add filter function\n",
    "list(filter(lambda i:len(i)>3,l2))"
   ]
  },
  {
   "cell_type": "code",
   "execution_count": 23,
   "id": "412efa90",
   "metadata": {},
   "outputs": [
    {
     "data": {
      "text/plain": [
       "['biry#ani', 'hy#d', 'Buvan#eswar']"
      ]
     },
     "execution_count": 23,
     "metadata": {},
     "output_type": "execute_result"
    }
   ],
   "source": [
    "l2=['biry#ani','hy#d','Buvan#eswar','rasagulla']\n",
    "list(filter(lambda i:'#' in i,l2))"
   ]
  },
  {
   "cell_type": "code",
   "execution_count": 40,
   "id": "39dac0df",
   "metadata": {},
   "outputs": [
    {
     "data": {
      "text/plain": [
       "{'even': [2, 4, 6, 8], 'odd': [1, 3, 5, 7]}"
      ]
     },
     "execution_count": 40,
     "metadata": {},
     "output_type": "execute_result"
    }
   ],
   "source": [
    "l3=[1,2,3,4,5,6,7,8]\n",
    "d1={}\n",
    "d1['even']=list(filter(lambda i:i%2==0,l3))\n",
    "d1['odd']=list(filter(lambda i:i%2!=0,l3))\n",
    "d1"
   ]
  },
  {
   "cell_type": "code",
   "execution_count": 43,
   "id": "22e22347",
   "metadata": {},
   "outputs": [
    {
     "data": {
      "text/plain": [
       "[{1: 'odd'},\n",
       " {2: 'even'},\n",
       " {3: 'odd'},\n",
       " {4: 'even'},\n",
       " {5: 'odd'},\n",
       " {6: 'even'},\n",
       " {7: 'odd'},\n",
       " {8: 'even'}]"
      ]
     },
     "execution_count": 43,
     "metadata": {},
     "output_type": "execute_result"
    }
   ],
   "source": [
    "l3=[1,2,3,4,5,6,7,8]\n",
    "\n",
    "\n",
    "list(map(lambda i:{i:'even'} if i%2==0 else {i:'odd'},l3))\n"
   ]
  },
  {
   "cell_type": "code",
   "execution_count": null,
   "id": "a5476f59",
   "metadata": {},
   "outputs": [],
   "source": [
    "d1={'A':300,'B'=200,'C'=400}\n",
    "d2={'A':200,'B'=150,'C'=300}\n",
    "for i,j in d1,d2:\n",
    "    "
   ]
  },
  {
   "cell_type": "code",
   "execution_count": null,
   "id": "158ca8c6",
   "metadata": {},
   "outputs": [],
   "source": [
    "#azure certification==with student ID"
   ]
  },
  {
   "cell_type": "code",
   "execution_count": 1,
   "id": "22f0173a",
   "metadata": {},
   "outputs": [
    {
     "data": {
      "text/plain": [
       "'Python is the best language'"
      ]
     },
     "execution_count": 1,
     "metadata": {},
     "output_type": "execute_result"
    }
   ],
   "source": [
    "'python is the best language'.capitalize()"
   ]
  },
  {
   "cell_type": "code",
   "execution_count": null,
   "id": "6baf0a0f",
   "metadata": {},
   "outputs": [],
   "source": []
  },
  {
   "cell_type": "code",
   "execution_count": null,
   "id": "53bc96fb",
   "metadata": {},
   "outputs": [],
   "source": []
  },
  {
   "cell_type": "code",
   "execution_count": null,
   "id": "7f4bca8a",
   "metadata": {},
   "outputs": [],
   "source": []
  },
  {
   "cell_type": "code",
   "execution_count": null,
   "id": "504913fa",
   "metadata": {},
   "outputs": [],
   "source": []
  }
 ],
 "metadata": {
  "kernelspec": {
   "display_name": "Python 3 (ipykernel)",
   "language": "python",
   "name": "python3"
  },
  "language_info": {
   "codemirror_mode": {
    "name": "ipython",
    "version": 3
   },
   "file_extension": ".py",
   "mimetype": "text/x-python",
   "name": "python",
   "nbconvert_exporter": "python",
   "pygments_lexer": "ipython3",
   "version": "3.11.5"
  }
 },
 "nbformat": 4,
 "nbformat_minor": 5
}
