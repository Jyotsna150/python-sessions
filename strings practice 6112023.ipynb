{
 "cells": [
  {
   "cell_type": "code",
   "execution_count": 2,
   "id": "bb8b6516",
   "metadata": {},
   "outputs": [
    {
     "data": {
      "text/plain": [
       "'hi how are you\\n   im good\\n   im learning python'"
      ]
     },
     "execution_count": 2,
     "metadata": {},
     "output_type": "execute_result"
    }
   ],
   "source": [
    "#doc strings\n",
    "# pycharm\n",
    "string1=\"\"\"hi how are you\n",
    "   im good\n",
    "   im learning python\"\"\"\n",
    "string1"
   ]
  },
  {
   "cell_type": "code",
   "execution_count": null,
   "id": "c847cc13",
   "metadata": {},
   "outputs": [],
   "source": [
    "\"\"\"\n",
    "this program about infinite while loop\n",
    "the original password='python'\n",
    "function:\n",
    "      arguments: None\n",
    "      return: None\n",
    "\"\"\"\n",
    "def pwd():\n",
    "    pwd='python'\n",
    "    while True:\n",
    "        user_pwd=input('enter the password:')\n",
    "        if(user_pwd==pwd):\n",
    "            \n",
    "            \n",
    "    "
   ]
  },
  {
   "cell_type": "code",
   "execution_count": 4,
   "id": "4992c367",
   "metadata": {},
   "outputs": [
    {
     "data": {
      "text/plain": [
       "'weLcome'"
      ]
     },
     "execution_count": 4,
     "metadata": {},
     "output_type": "execute_result"
    }
   ],
   "source": [
    "string1='welcome'\n",
    "#======================\n",
    "#slice+concatenation\n",
    "#================================\n",
    "string1[:2]+'L'+string1[3:]\n",
    "#===============================\n",
    "#replace method\n",
    "#===========================\n",
    "string1.replace('l','L')"
   ]
  },
  {
   "cell_type": "code",
   "execution_count": 9,
   "id": "3cc66017",
   "metadata": {},
   "outputs": [
    {
     "name": "stdout",
     "output_type": "stream",
     "text": [
      "$estart\n",
      "$esta$t\n"
     ]
    }
   ],
   "source": [
    "str1='restart'#case1--replace str1 as $estart\n",
    "print(str1.replace('r','$',1))#--Signature: str1.replace(old, new, count=-1, /)--old=value we want to chnge,/--indicates that count is not a default value still values will be there in future\n",
    "print(str1.replace('r','$',2)) #str1 as $esta$t                                                               # new=value we changed or replaced, count=-1---maximum replacables takes place\n"
   ]
  },
  {
   "cell_type": "code",
   "execution_count": 11,
   "id": "1c9dee75",
   "metadata": {},
   "outputs": [
    {
     "name": "stdout",
     "output_type": "stream",
     "text": [
      "resta$t\n",
      "resta$t\n"
     ]
    }
   ],
   "source": [
    "#str1 as resta$t\n",
    "print(str1[:1]+str1[1:].replace('r','$',1))\n",
    "print(str1[::-1].replace('r','$',1)[::-1])"
   ]
  },
  {
   "cell_type": "code",
   "execution_count": 18,
   "id": "930233f2",
   "metadata": {},
   "outputs": [
    {
     "ename": "AttributeError",
     "evalue": "'str' object has no attribute 'ascii_uppercase'",
     "output_type": "error",
     "traceback": [
      "\u001b[1;31m---------------------------------------------------------------------------\u001b[0m",
      "\u001b[1;31mAttributeError\u001b[0m                            Traceback (most recent call last)",
      "Cell \u001b[1;32mIn[18], line 3\u001b[0m\n\u001b[0;32m      1\u001b[0m \u001b[38;5;28;01mimport\u001b[39;00m \u001b[38;5;21;01mstring\u001b[39;00m\n\u001b[0;32m      2\u001b[0m n\u001b[38;5;241m=\u001b[39m\u001b[38;5;124m'\u001b[39m\u001b[38;5;124mvedanshita\u001b[39m\u001b[38;5;124m'\u001b[39m\n\u001b[1;32m----> 3\u001b[0m n\u001b[38;5;241m=\u001b[39mn\u001b[38;5;241m.\u001b[39mascii_uppercase\n\u001b[0;32m      4\u001b[0m n\n",
      "\u001b[1;31mAttributeError\u001b[0m: 'str' object has no attribute 'ascii_uppercase'"
     ]
    }
   ],
   "source": [
    "import string\n",
    "n='vedanshita'\n",
    "n=n.ascii_uppercase\n",
    "n"
   ]
  },
  {
   "cell_type": "code",
   "execution_count": 15,
   "id": "816851b9",
   "metadata": {},
   "outputs": [
    {
     "data": {
      "text/plain": [
       "['Formatter',\n",
       " 'Template',\n",
       " '_ChainMap',\n",
       " '__all__',\n",
       " '__builtins__',\n",
       " '__cached__',\n",
       " '__doc__',\n",
       " '__file__',\n",
       " '__loader__',\n",
       " '__name__',\n",
       " '__package__',\n",
       " '__spec__',\n",
       " '_re',\n",
       " '_sentinel_dict',\n",
       " '_string',\n",
       " 'ascii_letters',\n",
       " 'ascii_lowercase',\n",
       " 'ascii_uppercase',\n",
       " 'capwords',\n",
       " 'digits',\n",
       " 'hexdigits',\n",
       " 'octdigits',\n",
       " 'printable',\n",
       " 'punctuation',\n",
       " 'whitespace']"
      ]
     },
     "execution_count": 15,
     "metadata": {},
     "output_type": "execute_result"
    }
   ],
   "source": [
    "import string\n",
    "dir(string)"
   ]
  },
  {
   "cell_type": "code",
   "execution_count": 17,
   "id": "31c8139a",
   "metadata": {},
   "outputs": [
    {
     "ename": "AttributeError",
     "evalue": "'str' object has no attribute 'ascii_uppercase'",
     "output_type": "error",
     "traceback": [
      "\u001b[1;31m---------------------------------------------------------------------------\u001b[0m",
      "\u001b[1;31mAttributeError\u001b[0m                            Traceback (most recent call last)",
      "Cell \u001b[1;32mIn[17], line 1\u001b[0m\n\u001b[1;32m----> 1\u001b[0m \u001b[38;5;28;01mfor\u001b[39;00m i \u001b[38;5;129;01min\u001b[39;00m n\u001b[38;5;241m.\u001b[39mascii_uppercase:\n\u001b[0;32m      2\u001b[0m     \u001b[38;5;28mprint\u001b[39m(i,\u001b[38;5;28mord\u001b[39m(i))\n",
      "\u001b[1;31mAttributeError\u001b[0m: 'str' object has no attribute 'ascii_uppercase'"
     ]
    }
   ],
   "source": [
    "for i in n.ascii_uppercase:\n",
    "    print(i,ord(i))\n",
    "    "
   ]
  },
  {
   "cell_type": "markdown",
   "id": "8668aa7a",
   "metadata": {},
   "source": [
    "$index$"
   ]
  },
  {
   "cell_type": "code",
   "execution_count": 23,
   "id": "476fcd4a",
   "metadata": {},
   "outputs": [
    {
     "data": {
      "text/plain": [
       "3"
      ]
     },
     "execution_count": 23,
     "metadata": {},
     "output_type": "execute_result"
    }
   ],
   "source": [
    "str1='vedanshita'\n",
    "o=str1.index('a')\n",
    "o"
   ]
  },
  {
   "cell_type": "code",
   "execution_count": 24,
   "id": "0f272f99",
   "metadata": {},
   "outputs": [
    {
     "data": {
      "text/plain": [
       "9"
      ]
     },
     "execution_count": 24,
     "metadata": {},
     "output_type": "execute_result"
    }
   ],
   "source": [
    "str1.index('a',o+1)"
   ]
  },
  {
   "cell_type": "code",
   "execution_count": 30,
   "id": "9691d9de",
   "metadata": {},
   "outputs": [
    {
     "name": "stdout",
     "output_type": "stream",
     "text": [
      "3 6 12\n"
     ]
    }
   ],
   "source": [
    "str1='restart how to'\n",
    "f_o=str1.index('t')\n",
    "s_o=str1.index('t',f_o+1)\n",
    "t_o=str1.index('t',s_o+1)\n",
    "print(f_o, s_o, t_o)"
   ]
  },
  {
   "cell_type": "code",
   "execution_count": 34,
   "id": "8632741c",
   "metadata": {},
   "outputs": [
    {
     "name": "stdout",
     "output_type": "stream",
     "text": [
      "12\n"
     ]
    }
   ],
   "source": [
    "print(str1.index('t',str1.index('t',str1.index('t')+1)+1))"
   ]
  },
  {
   "cell_type": "code",
   "execution_count": 36,
   "id": "ed711408",
   "metadata": {},
   "outputs": [
    {
     "ename": "ValueError",
     "evalue": "substring not found",
     "output_type": "error",
     "traceback": [
      "\u001b[1;31m---------------------------------------------------------------------------\u001b[0m",
      "\u001b[1;31mValueError\u001b[0m                                Traceback (most recent call last)",
      "Cell \u001b[1;32mIn[36], line 2\u001b[0m\n\u001b[0;32m      1\u001b[0m \u001b[38;5;66;03m#count will give no.of occurences,index will only index\u001b[39;00m\n\u001b[1;32m----> 2\u001b[0m \u001b[38;5;28mprint\u001b[39m(str1\u001b[38;5;241m.\u001b[39mindex(\u001b[38;5;124m'\u001b[39m\u001b[38;5;124mT\u001b[39m\u001b[38;5;124m'\u001b[39m))\n",
      "\u001b[1;31mValueError\u001b[0m: substring not found"
     ]
    }
   ],
   "source": [
    "#count will give no.of occurences,index will only index\n",
    "print(str1.index('T'))"
   ]
  },
  {
   "cell_type": "code",
   "execution_count": 37,
   "id": "2d1af986",
   "metadata": {},
   "outputs": [
    {
     "name": "stdout",
     "output_type": "stream",
     "text": [
      "0\n"
     ]
    },
    {
     "ename": "ValueError",
     "evalue": "substring not found",
     "output_type": "error",
     "traceback": [
      "\u001b[1;31m---------------------------------------------------------------------------\u001b[0m",
      "\u001b[1;31mValueError\u001b[0m                                Traceback (most recent call last)",
      "Cell \u001b[1;32mIn[37], line 2\u001b[0m\n\u001b[0;32m      1\u001b[0m \u001b[38;5;28mprint\u001b[39m(str1\u001b[38;5;241m.\u001b[39mcount(\u001b[38;5;124m'\u001b[39m\u001b[38;5;124mT\u001b[39m\u001b[38;5;124m'\u001b[39m))\n\u001b[1;32m----> 2\u001b[0m \u001b[38;5;28mprint\u001b[39m(str1\u001b[38;5;241m.\u001b[39mindex(\u001b[38;5;124m'\u001b[39m\u001b[38;5;124mT\u001b[39m\u001b[38;5;124m'\u001b[39m))\n\u001b[0;32m      3\u001b[0m \u001b[38;5;28mprint\u001b[39m(str1\u001b[38;5;241m.\u001b[39mreplace(\u001b[38;5;124m'\u001b[39m\u001b[38;5;124mT\u001b[39m\u001b[38;5;124m'\u001b[39m,\u001b[38;5;124m'\u001b[39m\u001b[38;5;124ma\u001b[39m\u001b[38;5;124m'\u001b[39m))\n",
      "\u001b[1;31mValueError\u001b[0m: substring not found"
     ]
    }
   ],
   "source": [
    "print(str1.count('T'))\n",
    "print(str1.index('T'))\n",
    "print(str1.replace('T','a'))\n"
   ]
  },
  {
   "cell_type": "code",
   "execution_count": 38,
   "id": "40942112",
   "metadata": {},
   "outputs": [
    {
     "name": "stdout",
     "output_type": "stream",
     "text": [
      "0\n",
      "restart how to\n"
     ]
    }
   ],
   "source": [
    "print(str1.count('T'))  #0\n",
    "#print(str1.index('T'))#value error-sub string not found\n",
    "print(str1.replace('T','a'))# no error simply string displays\n"
   ]
  },
  {
   "cell_type": "markdown",
   "id": "f9d73790",
   "metadata": {},
   "source": [
    "$find$"
   ]
  },
  {
   "cell_type": "code",
   "execution_count": 39,
   "id": "6bc60be6",
   "metadata": {},
   "outputs": [
    {
     "data": {
      "text/plain": [
       "3"
      ]
     },
     "execution_count": 39,
     "metadata": {},
     "output_type": "execute_result"
    }
   ],
   "source": [
    "str1='restarting'\n",
    "str1.find('t')"
   ]
  },
  {
   "cell_type": "code",
   "execution_count": 40,
   "id": "f85ecd45",
   "metadata": {},
   "outputs": [
    {
     "data": {
      "text/plain": [
       "-1"
      ]
     },
     "execution_count": 40,
     "metadata": {},
     "output_type": "execute_result"
    }
   ],
   "source": [
    "str1.find('T')#Docstring:\n",
    "S.find(sub[, start[, end]]) -> int\n",
    "\n",
    "Return the lowest index in S where substring sub is found,\n",
    "such that sub is contained within S[start:end].  Optional\n",
    "arguments start and end are interpreted as in slice notation.\n",
    "\n",
    "Return -1 on failure.\n",
    "Type:      builtin_function_or_method"
   ]
  },
  {
   "cell_type": "code",
   "execution_count": 41,
   "id": "f9f82511",
   "metadata": {},
   "outputs": [
    {
     "data": {
      "text/plain": [
       "-1"
      ]
     },
     "execution_count": 41,
     "metadata": {},
     "output_type": "execute_result"
    }
   ],
   "source": [
    "str1.find('xx')"
   ]
  },
  {
   "cell_type": "code",
   "execution_count": 43,
   "id": "d79d8b57",
   "metadata": {},
   "outputs": [
    {
     "data": {
      "text/plain": [
       "['hai', 'how', 'are', 'you']"
      ]
     },
     "execution_count": 43,
     "metadata": {},
     "output_type": "execute_result"
    }
   ],
   "source": [
    "str2='hai how are you'\n",
    "str2.split()"
   ]
  },
  {
   "cell_type": "code",
   "execution_count": 44,
   "id": "4de6054d",
   "metadata": {},
   "outputs": [
    {
     "data": {
      "text/plain": [
       "['h', 'i how ', 're you']"
      ]
     },
     "execution_count": 44,
     "metadata": {},
     "output_type": "execute_result"
    }
   ],
   "source": [
    "str3='hai how are you'\n",
    "str3.split('a')"
   ]
  },
  {
   "cell_type": "code",
   "execution_count": null,
   "id": "67d7c8ad",
   "metadata": {},
   "outputs": [],
   "source": []
  },
  {
   "cell_type": "code",
   "execution_count": null,
   "id": "e5109293",
   "metadata": {},
   "outputs": [],
   "source": []
  }
 ],
 "metadata": {
  "kernelspec": {
   "display_name": "Python 3 (ipykernel)",
   "language": "python",
   "name": "python3"
  },
  "language_info": {
   "codemirror_mode": {
    "name": "ipython",
    "version": 3
   },
   "file_extension": ".py",
   "mimetype": "text/x-python",
   "name": "python",
   "nbconvert_exporter": "python",
   "pygments_lexer": "ipython3",
   "version": "3.11.5"
  }
 },
 "nbformat": 4,
 "nbformat_minor": 5
}
