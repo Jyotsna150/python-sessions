{
 "cells": [
  {
   "cell_type": "code",
   "execution_count": null,
   "id": "fd922740",
   "metadata": {},
   "outputs": [],
   "source": [
    "1.Suppose that a Firm pays its employee at the rate of $12 per hour. An employee has worked for 37\n",
    "hours. How much should the firm pay the employee? (Do normal way directly takes the input)"
   ]
  },
  {
   "cell_type": "code",
   "execution_count": 4,
   "id": "5e0e738c",
   "metadata": {},
   "outputs": [
    {
     "name": "stdout",
     "output_type": "stream",
     "text": [
      "The amount paid to employee for 37 hrs in $ is : $ 444\n"
     ]
    }
   ],
   "source": [
    "sal_hr=12\n",
    "emp_worked_hrs=37\n",
    "print('The amount paid to employee for {} hrs in $ is : $ {}'.format(emp_worked_hrs,sal_hr*emp_worked_hrs))\n"
   ]
  },
  {
   "cell_type": "code",
   "execution_count": null,
   "id": "926d1a28",
   "metadata": {},
   "outputs": [],
   "source": [
    "#### Problem 2\n",
    "How about prompting the user for the number of hours and using the input value to compute the\n",
    "total pay? (Above problem use eval concept and sep concept)"
   ]
  },
  {
   "cell_type": "code",
   "execution_count": 5,
   "id": "90f593f4",
   "metadata": {},
   "outputs": [
    {
     "name": "stdout",
     "output_type": "stream",
     "text": [
      "enter salary provided per hr in dollars is:13\n",
      "enter number of hrs worked by employee is:42\n",
      "the total amount for employee for 42 hrs paid is 546-in dollars\n"
     ]
    }
   ],
   "source": [
    "sal_per_hr=eval(input('enter salary provided per hr in dollars is:'))\n",
    "emp_worked_hrs=eval(input('enter number of hrs worked by employee is:'))\n",
    "total=sal_per_hr*emp_worked_hrs\n",
    "print('the total amount for employee for {} hrs paid is {}'.format(emp_worked_hrs,total),'in dollars',sep='-')"
   ]
  },
  {
   "cell_type": "code",
   "execution_count": null,
   "id": "11b3c56c",
   "metadata": {},
   "outputs": [],
   "source": [
    "#### Problem-3\n",
    "For a certain academic subject the students are evaluated based on five tests -\n",
    "* Quiz 1 (20 marks - 10% Weight),\n",
    "* Quiz 2 (20 marks - 10% Weight), \n",
    "* Class test (50 marks - 25% Weight), \n",
    "* Assignment (100 marks - 25% weight) and\n",
    "* Project (200 marks - 30% weight).\n",
    "\n",
    "Design a program that will prompt the user for marks for each of the tests and calculate the overall\n",
    "marks (out of 100)."
   ]
  },
  {
   "cell_type": "code",
   "execution_count": 7,
   "id": "4edab050",
   "metadata": {},
   "outputs": [
    {
     "name": "stdout",
     "output_type": "stream",
     "text": [
      "enter marks obtained in quiz1 out of 20:17\n",
      "enter marks obtained in quiz2 out of 20:18\n",
      "enter marks obtained in class test out of 50:45\n",
      "enter marks obtained in Assignment out of 100:76\n",
      "enter marks obtained in project out of 200:178\n",
      "the 10% of quiz1 marks considered is: 1.7\n",
      "the 10% of quiz2 marks considered is: 1.8\n",
      "the 25% ofclasstest marks considered  is: 11.25\n",
      "the 25% of assignment marks considered is: 19.0\n",
      "the 30% of project marks considered is: 53.4\n",
      "the total marks obtained out of 100 is: 87\n"
     ]
    }
   ],
   "source": [
    "quiz1=eval(input('enter marks obtained in quiz1 out of 20:'))\n",
    "quiz2=eval(input('enter marks obtained in quiz2 out of 20:'))\n",
    "classtest=eval(input('enter marks obtained in class test out of 50:'))\n",
    "assignment=eval(input('enter marks obtained in Assignment out of 100:'))\n",
    "project=eval(input('enter marks obtained in project out of 200:'))\n",
    "wt1=quiz1*10/100\n",
    "wt2=quiz2*10/100\n",
    "ct=classtest*25/100\n",
    "assmnt=assignment*25/100\n",
    "project1=project*30/100\n",
    "total_marks=round(wt1+wt2+ct+assmnt+project1)\n",
    "print('the 10% of quiz1 marks considered is: {}'.format(wt1))\n",
    "print('the 10% of quiz2 marks considered is: {}'.format(wt2))\n",
    "print('the 25% ofclasstest marks considered  is: {}'.format(ct))\n",
    "print('the 25% of assignment marks considered is: {}'.format(assmnt))\n",
    "print('the 30% of project marks considered is: {}'.format(project1))\n",
    "print('the total marks obtained out of 100 is: {}'.format(total_marks))\n"
   ]
  },
  {
   "cell_type": "code",
   "execution_count": null,
   "id": "b5618bf0",
   "metadata": {},
   "outputs": [],
   "source": [
    "#### Problem-4\n",
    "If a five-digit number is input through the keyboard, write a program to calculate the sum of its\n",
    "digits."
   ]
  },
  {
   "cell_type": "code",
   "execution_count": 8,
   "id": "f8120a77",
   "metadata": {},
   "outputs": [
    {
     "name": "stdout",
     "output_type": "stream",
     "text": [
      "enter a five digit number:12675\n",
      "5\n",
      "7\n",
      "6\n",
      "2\n",
      "1\n",
      "add: 21\n"
     ]
    }
   ],
   "source": [
    "num=eval(input('enter a five digit number:'))\n",
    "count=0\n",
    "num2=0\n",
    "num1=int()\n",
    "while(num!=0):\n",
    "    num1=num%10\n",
    "    num=num//10\n",
    "    print(num1)\n",
    "    count=count+1\n",
    "    num2=num2+num1\n",
    "print('add:',num2)"
   ]
  },
  {
   "cell_type": "code",
   "execution_count": null,
   "id": "ec2069a5",
   "metadata": {},
   "outputs": [],
   "source": [
    "#### Problem-5\n",
    "If a five-digit number is input through the keyboard, write a program to print a new number by\n",
    "adding one to each of its digits. For example if the number that is input is 12371 then the output\n",
    "should be displayed as 23482.\n"
   ]
  },
  {
   "cell_type": "code",
   "execution_count": null,
   "id": "ea107b06",
   "metadata": {},
   "outputs": [],
   "source": [
    "num=eval(input('enter a five digit number:'))\n",
    "digit1=int()\n",
    "for i in range(5):\n",
    "    digit=num%10\n",
    "    num=num//10\n",
    "    digit1=digit+1\n",
    "    print(digit1)\n",
    "    print(num)\n",
    "    "
   ]
  },
  {
   "cell_type": "code",
   "execution_count": null,
   "id": "fc694327",
   "metadata": {},
   "outputs": [],
   "source": [
    "#### Problem-6: (Use conditional statements)\n",
    "**Recall the problem:**\n",
    "For a certain academic subject the students are evaluated based on five tests - \n",
    "* Quiz 1 (20 marks - 10% Weight), \n",
    "* Quiz 2 (20 marks - 10% Weight),\n",
    "* Class test (50 marks - 25% Weight),\n",
    "* Assignment (100 marks - 25% weight) and\n",
    "* Project (200 marks - 30% weight).\n",
    "Design a program that will prompt the user for marks for each of the tests and calculate the overall\n",
    "marks (out of 100)."
   ]
  },
  {
   "cell_type": "code",
   "execution_count": 9,
   "id": "e86699ca",
   "metadata": {},
   "outputs": [
    {
     "name": "stdout",
     "output_type": "stream",
     "text": [
      "enter marks obtained in quiz1 out of 20:18\n",
      "enter marks obtained in quiz2 out of 20:17\n",
      "enter marks obtained in class test out of 50:44\n",
      "enter marks obtained in Assignment out of 100:87\n",
      "enter marks obtained in project out of 200:190\n",
      "the 10% of quiz1 marks considered is: 1.8\n",
      "the 10% of quiz2 marks considered is: 1.7\n",
      "the 25% ofclasstest marks considered  is: 11.0\n",
      "the 25% of assignment marks considered is: 21.75\n",
      "the 30% of project marks considered is: 57.0\n",
      "the total marks obtained out of 100 is: 93\n"
     ]
    }
   ],
   "source": [
    "try:\n",
    "    q1=eval(input('enter marks obtained in quiz1 out of 20:'))\n",
    "    q2=eval(input('enter marks obtained in quiz2 out of 20:'))\n",
    "    ct=eval(input('enter marks obtained in class test out of 50:'))\n",
    "    at=eval(input('enter marks obtained in Assignment out of 100:'))\n",
    "    p=eval(input('enter marks obtained in project out of 200:'))\n",
    "    if(q1<=20 and q2<=20 and ct<=50 and at<=100 and p<=200):\n",
    "        wt1=q1*10/100\n",
    "        wt2=q2*10/100\n",
    "        ct1=ct*25/100\n",
    "        assmnt=at*25/100\n",
    "        project1=p*30/100\n",
    "        total_marks=round(wt1+wt2+ct1+assmnt+project1)\n",
    "        print('the 10% of quiz1 marks considered is: {}'.format(wt1))\n",
    "        print('the 10% of quiz2 marks considered is: {}'.format(wt2))\n",
    "        print('the 25% ofclasstest marks considered  is: {}'.format(ct1))\n",
    "        print('the 25% of assignment marks considered is: {}'.format(assmnt))\n",
    "        print('the 30% of project marks considered is: {}'.format(project1))\n",
    "        print('the total marks obtained out of 100 is: {}'.format(total_marks))\n",
    "    else:\n",
    "        print('invalid')\n",
    "except exception as e:\n",
    "    print(e)\n"
   ]
  },
  {
   "cell_type": "code",
   "execution_count": null,
   "id": "a1435990",
   "metadata": {},
   "outputs": [],
   "source": [
    "#### Add an extension to the problem to display grades:\n",
    "Display the grades of students using the following table:\n",
    "Score Grade\n",
    ">= 60 First Class\n",
    ">= 40 Second Class\n",
    "< 40 Fa"
   ]
  },
  {
   "cell_type": "code",
   "execution_count": 10,
   "id": "71154d4e",
   "metadata": {},
   "outputs": [
    {
     "name": "stdout",
     "output_type": "stream",
     "text": [
      "enter marks obtained in quiz1 out of 20:18\n",
      "enter marks obtained in quiz2 out of 20:17\n",
      "enter marks obtained in class test out of 50:45\n",
      "enter marks obtained in Assignment out of 100:67\n",
      "enter marks obtained in project out of 200:189\n",
      "the 10% of quiz1 marks considered is: 1.8\n",
      "the 10% of quiz2 marks considered is: 1.7\n",
      "the 25% ofclasstest marks considered  is: 11.25\n",
      "the 25% of assignment marks considered is: 16.75\n",
      "the 30% of project marks considered is: 56.7\n",
      "the total marks obtained out of 100 is: 88\n",
      "student secured \"First class\"\n"
     ]
    }
   ],
   "source": [
    "try:\n",
    "    q1=eval(input('enter marks obtained in quiz1 out of 20:'))\n",
    "    q2=eval(input('enter marks obtained in quiz2 out of 20:'))\n",
    "    ct=eval(input('enter marks obtained in class test out of 50:'))\n",
    "    at=eval(input('enter marks obtained in Assignment out of 100:'))\n",
    "    p=eval(input('enter marks obtained in project out of 200:'))\n",
    "    if(q1<=20 and q2<=20 and ct<=50 and at<=100 and p<=200):\n",
    "        wt1=q1*10/100\n",
    "        wt2=q2*10/100\n",
    "        ct1=ct*25/100\n",
    "        assmnt=at*25/100\n",
    "        project1=p*30/100\n",
    "        total_marks=round(wt1+wt2+ct1+assmnt+project1)\n",
    "        print('the 10% of quiz1 marks considered is: {}'.format(wt1))\n",
    "        print('the 10% of quiz2 marks considered is: {}'.format(wt2))\n",
    "        print('the 25% ofclasstest marks considered  is: {}'.format(ct1))\n",
    "        print('the 25% of assignment marks considered is: {}'.format(assmnt))\n",
    "        print('the 30% of project marks considered is: {}'.format(project1))\n",
    "        print('the total marks obtained out of 100 is: {}'.format(total_marks))\n",
    "    else:\n",
    "        print('invalid')\n",
    "    if(total_marks>=60):\n",
    "        print('student secured \"First class\"')\n",
    "    elif(total_marks>=40 and total_marks<60):\n",
    "        print('student secured \"Second class\"')\n",
    "    else:\n",
    "        print('student secured \"Failed\"')\n",
    "            \n",
    "except exception as e:\n",
    "    print(e)\n"
   ]
  },
  {
   "cell_type": "code",
   "execution_count": null,
   "id": "37b4a3ca",
   "metadata": {},
   "outputs": [],
   "source": [
    "#### Problem-7: (Use conditional statements)\n",
    "** Recall the problem:**\n",
    "How about prompting the user for the number of hours and using the input value to compute the\n",
    "total pay?\n"
   ]
  },
  {
   "cell_type": "code",
   "execution_count": 12,
   "id": "274476a3",
   "metadata": {},
   "outputs": [
    {
     "name": "stdout",
     "output_type": "stream",
     "text": [
      "enter salary provided per hr in dollars is:14\n",
      "enter number of hrs worked by employee is:37\n",
      "The minimum pay should be 12$ and no\n",
      "the total amount for employee for 37 hrs paid is 518-in dollars\n"
     ]
    }
   ],
   "source": [
    "sal_per_hr=eval(input('enter salary provided per hr in dollars is:'))\n",
    "emp_worked_hrs=eval(input('enter number of hrs worked by employee is:'))\n",
    "if(sal_per_hr>=12 and emp_worked_hrs>=37):\n",
    "    print('The minimum pay should be 12$ and no')\n",
    "    total=sal_per_hr*emp_worked_hrs\n",
    "    print('the total amount for employee for {} hrs paid is {}'.format(emp_worked_hrs,total),'in dollars',sep='-')\n",
    "else:\n",
    "    print('No payment! if employee not worked for lessthan 37 hrs or paid less than 12$')\n",
    "    "
   ]
  },
  {
   "cell_type": "code",
   "execution_count": null,
   "id": "e484e0be",
   "metadata": {},
   "outputs": [],
   "source": [
    "#### Problem-8\n",
    "** try & except **\n",
    "Rewrite the pay program (refer problem 2) using try and expect \n",
    "so that the program handles non\u0002numeric input gracefully by printing a message and exiting the program. The following shows two\n",
    "executions of the program:\n",
    "Enter hours: 20\n",
    "Enter rate: nine\n",
    "Error, please enter numeric input"
   ]
  },
  {
   "cell_type": "code",
   "execution_count": 13,
   "id": "0a0cfce7",
   "metadata": {},
   "outputs": [
    {
     "name": "stdout",
     "output_type": "stream",
     "text": [
      "enter salary provided per hr in dollars is:14\n",
      "please execute program\n"
     ]
    }
   ],
   "source": [
    "try:\n",
    "    emp_worked_hrs=20\n",
    "    sal_per_hr=input('enter salary provided per hr in dollars is:')\n",
    "    if(sal_per_hr.isnumeric()):\n",
    "        print('please execute program')\n",
    "        \n",
    "    else:\n",
    "        print('error,please provide numeric value')\n",
    "except exception as e:\n",
    "    print(e)"
   ]
  },
  {
   "cell_type": "code",
   "execution_count": null,
   "id": "3dee83aa",
   "metadata": {},
   "outputs": [],
   "source": [
    "#### Problem-9(Use conditional statements)\n",
    "Write a program that asks the user to enter a length in centimeters. If the user enters a negative\n",
    "length, the program should tell the user that the entry is invalid. Otherwise, the program should\n",
    "convert the length to inches and print out the result. There are 2.54 centimeters in an inch"
   ]
  },
  {
   "cell_type": "code",
   "execution_count": 14,
   "id": "2eb56eed",
   "metadata": {},
   "outputs": [
    {
     "name": "stdout",
     "output_type": "stream",
     "text": [
      "enter the length in cm:14\n",
      "the length in inches is 35.56\n"
     ]
    }
   ],
   "source": [
    "length=eval(input('enter the length in cm:'))\n",
    "if(length>=0):\n",
    "    inch=2.54\n",
    "    print('the length in inches is {}'.format(length*inch))\n",
    "else:\n",
    "    print('The entry is \"invalid\"')"
   ]
  },
  {
   "cell_type": "code",
   "execution_count": null,
   "id": "0063f981",
   "metadata": {},
   "outputs": [],
   "source": [
    "#### Problem-10(Use conditional statements)\n",
    "Ask the user for a temperature. Then ask them what units, Celsius or Fahrenheit, the temperature is\n",
    "in. Your program should convert the temperature to the other unit. The conversions are F = 9 5 C +\n",
    "32 and C = 5 9 (F − 32)"
   ]
  },
  {
   "cell_type": "code",
   "execution_count": 15,
   "id": "d15fff66",
   "metadata": {},
   "outputs": [
    {
     "name": "stdout",
     "output_type": "stream",
     "text": [
      "enter the Temperature: 324\n",
      "enter temperature is \"celcius\" or \"Fahrenheit\":Fahrenheit\n",
      "162\n"
     ]
    }
   ],
   "source": [
    "temp=eval(input('enter the Temperature: '))\n",
    "a=input('enter temperature is \"celcius\" or \"Fahrenheit\":')\n",
    "if(a==\"celcius\"):\n",
    "    print('covert \"celcius\" to \"Fahrenheit\"')\n",
    "    F=round((9/5)*(temp+32))\n",
    "    print(F)\n",
    "else:\n",
    "    C =round((5/9)*(temp-32))\n",
    "    print(C)\n"
   ]
  },
  {
   "cell_type": "code",
   "execution_count": null,
   "id": "a56c6dd6",
   "metadata": {},
   "outputs": [],
   "source": [
    "#### Problem-11(Use conditional statements)\n",
    "Ask the user to enter a temperature in Fahrenheit. The program should print a message based on the\n",
    "temperature: \n",
    "    • If the temperature is less than -273.15, print that the temperature is invalid because it is\n",
    "below absolute zero. \n",
    "• If it is exactly -273.15, print that the temperature is absolute 0. \n",
    "• If the temperature is between -273.15 and 0, print that the temperature is below freezing.\n",
    "• If it is 0, print that the temperature is at the freezing point. \n",
    "• If it is between 0 and 100, print that the temperature is in the normal range. \n",
    "• If it is 100, print that the temperature is at the boiling point. \n",
    "• If it is above 100, print that the temperature is above the boiling point"
   ]
  },
  {
   "cell_type": "code",
   "execution_count": 16,
   "id": "c4e0005e",
   "metadata": {},
   "outputs": [
    {
     "name": "stdout",
     "output_type": "stream",
     "text": [
      "enter the Temperature in Fahrenheit:134\n",
      "the temperature is above the boiling point\n"
     ]
    }
   ],
   "source": [
    "temp=eval(input('enter the Temperature in Fahrenheit:'))\n",
    "if(temp<-273.15):\n",
    "    print('the temperature is invalid because it is below absolute zero. ')\n",
    "elif(temp==-273.15):\n",
    "    print('the temperature is invalid because it is absolute zero. ')\n",
    "elif(temp==0):\n",
    "    print('the temperature is at the freezing point')\n",
    "elif(0<temp<100):\n",
    "    print('the temperature is in the normal range.')\n",
    "elif(temp==100):\n",
    "    print('the temperature is at the boiling point.')\n",
    "else:\n",
    "    print('the temperature is above the boiling point')"
   ]
  },
  {
   "cell_type": "code",
   "execution_count": null,
   "id": "e5e5bc37",
   "metadata": {},
   "outputs": [],
   "source": [
    "#### Problem-12(Use conditional statements)\n",
    "Write a program that asks the user how many credits they have taken. If they have taken 23 or less,\n",
    "print that the student is a freshman. If they have taken between 24 and 53, print that they are a\n",
    "sophomore. The range for juniors is 54 to 83, and for seniors it is 84 and over"
   ]
  },
  {
   "cell_type": "code",
   "execution_count": 17,
   "id": "cf1f871c",
   "metadata": {},
   "outputs": [
    {
     "name": "stdout",
     "output_type": "stream",
     "text": [
      "enter the credits you have taken:67\n",
      "The student is Junior\n"
     ]
    }
   ],
   "source": [
    "cred=eval(input('enter the credits you have taken:'))\n",
    "if(cred<=23):\n",
    "    print('The student is a fresher graduate')\n",
    "elif(24<=cred<=53):\n",
    "    print('The student is a sophomore')\n",
    "elif(54<=cred<=83):\n",
    "    print('The student is Junior')\n",
    "else:\n",
    "    print('The student is Senior')\n",
    "    "
   ]
  },
  {
   "cell_type": "code",
   "execution_count": null,
   "id": "781d4761",
   "metadata": {},
   "outputs": [],
   "source": [
    "#### Problem-13(Use conditional statements)\n",
    "Generate a random number between 1 and 10. Ask the user to guess the number and print a\n",
    "message based on whether they get it right or not."
   ]
  },
  {
   "cell_type": "code",
   "execution_count": 20,
   "id": "60d1d104",
   "metadata": {},
   "outputs": [
    {
     "name": "stdout",
     "output_type": "stream",
     "text": [
      "I think the number is:7\n",
      "yes! I am right\n"
     ]
    }
   ],
   "source": [
    "import random\n",
    "num=random.randint(1,10)\n",
    "number=eval(input('I think the number is:'))\n",
    "if(number==num):\n",
    "    print('yes! I am right')\n",
    "else:\n",
    "    print('Oops!! I am wrong')"
   ]
  },
  {
   "cell_type": "markdown",
   "id": "fd638047",
   "metadata": {},
   "source": [
    "Problem-14(Use conditional statements)\n",
    "A store charges $12 per item if you buy less than 10 items. If you buy between 10 and 99 items, the\n",
    "cost is $10 per item. If you buy 100 or more items, the cost is $7 per item. Write a program that asks\n",
    "the user how many items they are buying and prints the total cost"
   ]
  },
  {
   "cell_type": "code",
   "execution_count": null,
   "id": "da0d15ce",
   "metadata": {},
   "outputs": [],
   "source": [
    "items=eval(input('How many items you have purchased:'))\n",
    "if(items<10):\n",
    "    print('The cost per item is $12 only..')\n",
    "    print('the total cost for {} items is ${}'.format(items,items*12))\n",
    "elif(10<=items<=99):\n",
    "    print('The cost per item is $10 only..!')\n",
    "    print('the total cost for {} items is ${}'.format(items,items*10))\n",
    "else:\n",
    "    print('the total cost for {} items is ${}'.format(items,items*7))"
   ]
  },
  {
   "cell_type": "code",
   "execution_count": null,
   "id": "e25791a9",
   "metadata": {},
   "outputs": [],
   "source": [
    "#### Problem-15(Use conditional statements)\n",
    "Write a program that asks the user for two numbers and prints Close if the numbers are within .001\n",
    "of each other and Not close otherwise."
   ]
  },
  {
   "cell_type": "code",
   "execution_count": 21,
   "id": "6ca629b3",
   "metadata": {},
   "outputs": [
    {
     "name": "stdout",
     "output_type": "stream",
     "text": [
      "enter first number:2.01\n",
      "enter second number:1.97\n",
      "Not close\n"
     ]
    }
   ],
   "source": [
    "a,b=float(input('enter first number:')),float(input('enter second number:'))\n",
    "c=a-b\n",
    "if(c==.001):\n",
    "    print('close')\n",
    "else:\n",
    "    print('Not close')"
   ]
  },
  {
   "cell_type": "code",
   "execution_count": null,
   "id": "ef8b1583",
   "metadata": {},
   "outputs": [],
   "source": [
    "#### Problem-16(Use conditional statements)\n",
    "A year is a leap year if it is divisible by 4, except that years divisible by 100 are not leap years unless\n",
    "they are also divisible by 400. Write a program that asks the user for a year and prints out whether it\n",
    "is a leap year or not."
   ]
  },
  {
   "cell_type": "code",
   "execution_count": 22,
   "id": "91a2881e",
   "metadata": {},
   "outputs": [
    {
     "name": "stdout",
     "output_type": "stream",
     "text": [
      "enter a year:1945\n",
      "Its not a leap year\n"
     ]
    }
   ],
   "source": [
    "year=eval(input('enter a year:'))\n",
    "if(year%100==0 and year%400==0):\n",
    "    print('Its a leap year')\n",
    "elif(year%4==0):\n",
    "    print('Its a leap year')\n",
    "else:\n",
    "    print('Its not a leap year')\n",
    "    "
   ]
  },
  {
   "cell_type": "code",
   "execution_count": null,
   "id": "217fa5f3",
   "metadata": {},
   "outputs": [],
   "source": [
    "#### Problem-17(Use conditional statements)\n",
    "Write a program that asks the user to enter a number and prints out all the divisors of that number.\n",
    "[Hint: the % operator is used to tell if a number is divisible by something."
   ]
  },
  {
   "cell_type": "code",
   "execution_count": null,
   "id": "1d35ebb8",
   "metadata": {},
   "outputs": [],
   "source": [
    "num=12\n",
    "div=()\n",
    "for i in range(5):\n",
    "    num1=eval(input('enter a number:'))\n",
    "    if(num%num1==0):\n",
    "        print('{} divisors of {}'.format(num1,num))\n",
    "        print('the {} and 1 is default divisors'.format(num))\n",
    "        print(num1)\n",
    "        div=num1\n",
    "    else:\n",
    "        print('{} is not a divisor'.format(num1))\n",
    "print('the divisors are:{}'.format(div))"
   ]
  },
  {
   "cell_type": "code",
   "execution_count": null,
   "id": "9fcac862",
   "metadata": {},
   "outputs": [],
   "source": [
    "#### Problem-18(Use conditional statements)\n",
    "Write a program that asks the user for an hour between 1 and 12, asks them to enter am or pm, and\n",
    "asks them how many hours into the future they want to go.\n",
    "Print out what the hour will be that many hours into the future, printing am or pm as appropriate.\n",
    "An example is shown below\n",
    "Enter hour: 8\n",
    "am (1) or pm (2)? 1\n",
    "How many hours ahead? 5\n",
    "New hour: 1 pm"
   ]
  },
  {
   "cell_type": "code",
   "execution_count": 3,
   "id": "ad32f5a2",
   "metadata": {},
   "outputs": [
    {
     "name": "stdout",
     "output_type": "stream",
     "text": [
      "enter time in hrs: 10\n",
      "enter time \"am\" or \"pm\":pm\n",
      "enter how many hours ahead:7\n",
      "the new hr is 6am\n"
     ]
    }
   ],
   "source": [
    "time=eval(input('enter time in hrs: '))\n",
    "T=input('enter time \"am\" or \"pm\":')\n",
    "future=eval(input('enter how many hours ahead:'))\n",
    "if(T==\"am\"):\n",
    "    new_hr=time+future\n",
    "    if((new_hr)>11):\n",
    "        print('the new hr is {}pm'.format(new_hr-12))\n",
    "    else:\n",
    "        print('the new hr is {}am'.format(new_hr))\n",
    "elif(T=='pm'):\n",
    "    new_hr=time+future\n",
    "    if((new_hr)>11):\n",
    "        print('the new hr is {}am'.format(new_hr-12))\n",
    "    else:\n",
    "        print('the new hr is {}pm'.format(new_hr))\n",
    "else:\n",
    "    print('some thing went wrong')\n",
    "    \n",
    "    \n",
    "    \n"
   ]
  },
  {
   "cell_type": "code",
   "execution_count": null,
   "id": "754db977",
   "metadata": {},
   "outputs": [],
   "source": []
  }
 ],
 "metadata": {
  "kernelspec": {
   "display_name": "Python 3 (ipykernel)",
   "language": "python",
   "name": "python3"
  },
  "language_info": {
   "codemirror_mode": {
    "name": "ipython",
    "version": 3
   },
   "file_extension": ".py",
   "mimetype": "text/x-python",
   "name": "python",
   "nbconvert_exporter": "python",
   "pygments_lexer": "ipython3",
   "version": "3.11.5"
  }
 },
 "nbformat": 4,
 "nbformat_minor": 5
}
